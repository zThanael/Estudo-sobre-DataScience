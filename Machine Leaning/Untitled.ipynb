{
 "cells": [
  {
   "cell_type": "markdown",
   "id": "2beec9b0-ec73-4509-97fc-4b9858cecce2",
   "metadata": {},
   "source": [
    "# 1 sim 0 não\n",
    "- pelo longo?\n",
    "- perna curta?\n",
    "- faz auau ?"
   ]
  },
  {
   "cell_type": "code",
   "execution_count": 2,
   "id": "b28091ce-aad7-4221-8401-7c726ee89591",
   "metadata": {},
   "outputs": [],
   "source": [
    "p1 = [0,1,0]\n",
    "p2 = [0,1,1]\n",
    "p3 = [1,1,0]"
   ]
  },
  {
   "cell_type": "code",
   "execution_count": 3,
   "id": "f49b6181-5356-4b95-8677-2bd3de5cedcc",
   "metadata": {},
   "outputs": [],
   "source": [
    "c1 = [0,1,1]\n",
    "c2 = [1,0,1]\n",
    "c3 = [1,1,1]"
   ]
  },
  {
   "cell_type": "markdown",
   "id": "a235fad3-6b1e-40f9-b812-948e748e472c",
   "metadata": {},
   "source": [
    "### 0: Cachorro\n",
    "### 1: Porco"
   ]
  },
  {
   "cell_type": "code",
   "execution_count": 6,
   "id": "7edd7fe4-5275-4214-9e09-7ec3122f0c84",
   "metadata": {},
   "outputs": [],
   "source": [
    "dados = [p1,p2,p3,c1,c2,c3]\n",
    "classes = [1,1,1,0,0,0]"
   ]
  },
  {
   "cell_type": "code",
   "execution_count": 8,
   "id": "42795ca2-54f0-4b47-b817-2be4060bee08",
   "metadata": {},
   "outputs": [],
   "source": [
    "from sklearn.svm import LinearSVC"
   ]
  },
  {
   "cell_type": "code",
   "execution_count": 9,
   "id": "b8c8ebfe-46c2-40f6-a917-7a0c411f795a",
   "metadata": {},
   "outputs": [],
   "source": [
    "model = LinearSVC()"
   ]
  },
  {
   "cell_type": "code",
   "execution_count": 11,
   "id": "352bc9e2-d6d8-4654-9148-5b7537b751b9",
   "metadata": {},
   "outputs": [
    {
     "data": {
      "text/plain": [
       "LinearSVC()"
      ]
     },
     "execution_count": 11,
     "metadata": {},
     "output_type": "execute_result"
    }
   ],
   "source": [
    "model.fit(dados, classes)"
   ]
  },
  {
   "cell_type": "code",
   "execution_count": 13,
   "id": "d2515f29-f38b-441b-ba11-633d719fd130",
   "metadata": {},
   "outputs": [
    {
     "data": {
      "text/plain": [
       "array([0])"
      ]
     },
     "execution_count": 13,
     "metadata": {},
     "output_type": "execute_result"
    }
   ],
   "source": [
    "animal = [1,1,1]\n",
    "model.predict([animal])"
   ]
  },
  {
   "cell_type": "code",
   "execution_count": 20,
   "id": "a1005b69-5018-49a8-a545-349f16cd627e",
   "metadata": {},
   "outputs": [
    {
     "data": {
      "text/plain": [
       "array([0, 1, 0])"
      ]
     },
     "execution_count": 20,
     "metadata": {},
     "output_type": "execute_result"
    }
   ],
   "source": [
    "previsoes = model.predict([[1,1,1],[1,1,0],[0,1,1]])\n",
    "previsoes"
   ]
  },
  {
   "cell_type": "code",
   "execution_count": 21,
   "id": "447e360b-c49e-4751-9f81-dd2b948cd2f2",
   "metadata": {},
   "outputs": [
    {
     "data": {
      "text/plain": [
       "[0, 1, 1]"
      ]
     },
     "execution_count": 21,
     "metadata": {},
     "output_type": "execute_result"
    }
   ],
   "source": [
    "teste_classe = [0,1,1]\n",
    "teste_classe"
   ]
  },
  {
   "cell_type": "code",
   "execution_count": 30,
   "id": "30ce08da-d5bd-42b7-b5ca-3c98c06d60b0",
   "metadata": {},
   "outputs": [
    {
     "name": "stdout",
     "output_type": "stream",
     "text": [
      "taxa de acerto é 66.67%\n"
     ]
    }
   ],
   "source": [
    "corretos = (previsoes == teste_classe).sum()\n",
    "total = len(previsoes)\n",
    "taxa  = corretos/total\n",
    "print(f'taxa de acerto é {(taxa*100):.2f}%')"
   ]
  },
  {
   "cell_type": "code",
   "execution_count": 31,
   "id": "d3966f46-c838-476e-93d6-2ca21c27e045",
   "metadata": {},
   "outputs": [],
   "source": [
    "from sklearn.metrics import accuracy_score"
   ]
  },
  {
   "cell_type": "code",
   "execution_count": 32,
   "id": "5988f0d7-76aa-4e59-9fc6-f1b9389ff927",
   "metadata": {},
   "outputs": [
    {
     "data": {
      "text/plain": [
       "0.6666666666666666"
      ]
     },
     "execution_count": 32,
     "metadata": {},
     "output_type": "execute_result"
    }
   ],
   "source": [
    "score = accuracy_score(teste_classe,previsoes) \n",
    "score"
   ]
  },
  {
   "cell_type": "code",
   "execution_count": null,
   "id": "38c2f812-1f28-4ef0-94b6-f9b6d3d517c3",
   "metadata": {},
   "outputs": [],
   "source": []
  }
 ],
 "metadata": {
  "kernelspec": {
   "display_name": "Python 3 (ipykernel)",
   "language": "python",
   "name": "python3"
  },
  "language_info": {
   "codemirror_mode": {
    "name": "ipython",
    "version": 3
   },
   "file_extension": ".py",
   "mimetype": "text/x-python",
   "name": "python",
   "nbconvert_exporter": "python",
   "pygments_lexer": "ipython3",
   "version": "3.9.7"
  }
 },
 "nbformat": 4,
 "nbformat_minor": 5
}
