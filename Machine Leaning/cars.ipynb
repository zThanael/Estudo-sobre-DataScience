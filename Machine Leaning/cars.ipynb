{
 "cells": [
  {
   "cell_type": "code",
   "execution_count": 1,
   "id": "daee96db-277e-47cb-b450-5e83d035521e",
   "metadata": {},
   "outputs": [],
   "source": [
    "import numpy as np\n",
    "import pandas as pd"
   ]
  },
  {
   "cell_type": "code",
   "execution_count": 2,
   "id": "f635a46b-9136-4b7d-8af7-31d70891f9d9",
   "metadata": {},
   "outputs": [],
   "source": [
    "dados = pd.read_csv('https://gist.githubusercontent.com/guilhermesilveira/4d1d4a16ccbf6ea4e0a64a38a24ec884/raw/afd05cb0c796d18f3f5a6537053ded308ba94bf7/car-prices.csv')"
   ]
  },
  {
   "cell_type": "code",
   "execution_count": 3,
   "id": "0ecbd801-e21b-43a2-b3c0-fd2a64d01a6e",
   "metadata": {},
   "outputs": [
    {
     "data": {
      "text/html": [
       "<div>\n",
       "<style scoped>\n",
       "    .dataframe tbody tr th:only-of-type {\n",
       "        vertical-align: middle;\n",
       "    }\n",
       "\n",
       "    .dataframe tbody tr th {\n",
       "        vertical-align: top;\n",
       "    }\n",
       "\n",
       "    .dataframe thead th {\n",
       "        text-align: right;\n",
       "    }\n",
       "</style>\n",
       "<table border=\"1\" class=\"dataframe\">\n",
       "  <thead>\n",
       "    <tr style=\"text-align: right;\">\n",
       "      <th></th>\n",
       "      <th>Unnamed: 0</th>\n",
       "      <th>mileage_per_year</th>\n",
       "      <th>model_year</th>\n",
       "      <th>price</th>\n",
       "      <th>sold</th>\n",
       "    </tr>\n",
       "  </thead>\n",
       "  <tbody>\n",
       "    <tr>\n",
       "      <th>0</th>\n",
       "      <td>0</td>\n",
       "      <td>21801</td>\n",
       "      <td>2000</td>\n",
       "      <td>30941.02</td>\n",
       "      <td>yes</td>\n",
       "    </tr>\n",
       "    <tr>\n",
       "      <th>1</th>\n",
       "      <td>1</td>\n",
       "      <td>7843</td>\n",
       "      <td>1998</td>\n",
       "      <td>40557.96</td>\n",
       "      <td>yes</td>\n",
       "    </tr>\n",
       "    <tr>\n",
       "      <th>2</th>\n",
       "      <td>2</td>\n",
       "      <td>7109</td>\n",
       "      <td>2006</td>\n",
       "      <td>89627.50</td>\n",
       "      <td>no</td>\n",
       "    </tr>\n",
       "    <tr>\n",
       "      <th>3</th>\n",
       "      <td>3</td>\n",
       "      <td>26823</td>\n",
       "      <td>2015</td>\n",
       "      <td>95276.14</td>\n",
       "      <td>no</td>\n",
       "    </tr>\n",
       "    <tr>\n",
       "      <th>4</th>\n",
       "      <td>4</td>\n",
       "      <td>7935</td>\n",
       "      <td>2014</td>\n",
       "      <td>117384.68</td>\n",
       "      <td>yes</td>\n",
       "    </tr>\n",
       "    <tr>\n",
       "      <th>...</th>\n",
       "      <td>...</td>\n",
       "      <td>...</td>\n",
       "      <td>...</td>\n",
       "      <td>...</td>\n",
       "      <td>...</td>\n",
       "    </tr>\n",
       "    <tr>\n",
       "      <th>9995</th>\n",
       "      <td>9995</td>\n",
       "      <td>15572</td>\n",
       "      <td>2006</td>\n",
       "      <td>97112.86</td>\n",
       "      <td>no</td>\n",
       "    </tr>\n",
       "    <tr>\n",
       "      <th>9996</th>\n",
       "      <td>9996</td>\n",
       "      <td>13246</td>\n",
       "      <td>2002</td>\n",
       "      <td>107424.63</td>\n",
       "      <td>yes</td>\n",
       "    </tr>\n",
       "    <tr>\n",
       "      <th>9997</th>\n",
       "      <td>9997</td>\n",
       "      <td>13018</td>\n",
       "      <td>2014</td>\n",
       "      <td>93856.99</td>\n",
       "      <td>no</td>\n",
       "    </tr>\n",
       "    <tr>\n",
       "      <th>9998</th>\n",
       "      <td>9998</td>\n",
       "      <td>10464</td>\n",
       "      <td>2011</td>\n",
       "      <td>51250.57</td>\n",
       "      <td>yes</td>\n",
       "    </tr>\n",
       "    <tr>\n",
       "      <th>9999</th>\n",
       "      <td>9999</td>\n",
       "      <td>12362</td>\n",
       "      <td>1999</td>\n",
       "      <td>87945.73</td>\n",
       "      <td>no</td>\n",
       "    </tr>\n",
       "  </tbody>\n",
       "</table>\n",
       "<p>10000 rows × 5 columns</p>\n",
       "</div>"
      ],
      "text/plain": [
       "      Unnamed: 0  mileage_per_year  model_year      price sold\n",
       "0              0             21801        2000   30941.02  yes\n",
       "1              1              7843        1998   40557.96  yes\n",
       "2              2              7109        2006   89627.50   no\n",
       "3              3             26823        2015   95276.14   no\n",
       "4              4              7935        2014  117384.68  yes\n",
       "...          ...               ...         ...        ...  ...\n",
       "9995        9995             15572        2006   97112.86   no\n",
       "9996        9996             13246        2002  107424.63  yes\n",
       "9997        9997             13018        2014   93856.99   no\n",
       "9998        9998             10464        2011   51250.57  yes\n",
       "9999        9999             12362        1999   87945.73   no\n",
       "\n",
       "[10000 rows x 5 columns]"
      ]
     },
     "execution_count": 3,
     "metadata": {},
     "output_type": "execute_result"
    }
   ],
   "source": [
    "dados"
   ]
  },
  {
   "cell_type": "code",
   "execution_count": 4,
   "id": "a0cfd120-5796-432b-b47e-667661176bab",
   "metadata": {},
   "outputs": [],
   "source": [
    "dados.drop(columns=['Unnamed: 0'], inplace = True)"
   ]
  },
  {
   "cell_type": "code",
   "execution_count": 5,
   "id": "8bdc89c6-a027-45d9-b94e-9bdf0c946395",
   "metadata": {},
   "outputs": [],
   "source": [
    "dados['sold'] = dados['sold'].apply(lambda x: 1 if x == 'yes' else 0)"
   ]
  },
  {
   "cell_type": "code",
   "execution_count": 6,
   "id": "2de673d4-2468-48e9-919a-1bfbfce4b447",
   "metadata": {},
   "outputs": [],
   "source": [
    "from datetime import datetime"
   ]
  },
  {
   "cell_type": "code",
   "execution_count": 7,
   "id": "e683778e-eedc-4836-8d37-4b6ef6503edd",
   "metadata": {},
   "outputs": [],
   "source": [
    "today = datetime.now()\n",
    "year  = today.year"
   ]
  },
  {
   "cell_type": "code",
   "execution_count": 8,
   "id": "1f1d086a-dfba-4121-b107-1eeef43526d5",
   "metadata": {},
   "outputs": [],
   "source": [
    "dados['age_model'] = year - dados['model_year']"
   ]
  },
  {
   "cell_type": "code",
   "execution_count": 9,
   "id": "8a30185b-1d5c-42da-8c1a-2272256563c3",
   "metadata": {},
   "outputs": [],
   "source": [
    "dados['km_year'] = dados['mileage_per_year'] * 1.60934"
   ]
  },
  {
   "cell_type": "code",
   "execution_count": 10,
   "id": "7ae6a73d-93d8-4395-b4b9-afb70cb43f6a",
   "metadata": {},
   "outputs": [],
   "source": [
    "dados.drop(columns=['mileage_per_year','model_year'],inplace = True)"
   ]
  },
  {
   "cell_type": "code",
   "execution_count": 11,
   "id": "11a1b474-f614-4815-b999-89e94c9cc577",
   "metadata": {},
   "outputs": [],
   "source": [
    "dados = dados[['age_model','km_year','price','sold']]"
   ]
  },
  {
   "cell_type": "code",
   "execution_count": 12,
   "id": "ecab5ffa-796b-419d-924b-bac1968e1d28",
   "metadata": {},
   "outputs": [
    {
     "data": {
      "text/html": [
       "<div>\n",
       "<style scoped>\n",
       "    .dataframe tbody tr th:only-of-type {\n",
       "        vertical-align: middle;\n",
       "    }\n",
       "\n",
       "    .dataframe tbody tr th {\n",
       "        vertical-align: top;\n",
       "    }\n",
       "\n",
       "    .dataframe thead th {\n",
       "        text-align: right;\n",
       "    }\n",
       "</style>\n",
       "<table border=\"1\" class=\"dataframe\">\n",
       "  <thead>\n",
       "    <tr style=\"text-align: right;\">\n",
       "      <th></th>\n",
       "      <th>age_model</th>\n",
       "      <th>km_year</th>\n",
       "      <th>price</th>\n",
       "      <th>sold</th>\n",
       "    </tr>\n",
       "  </thead>\n",
       "  <tbody>\n",
       "    <tr>\n",
       "      <th>0</th>\n",
       "      <td>22</td>\n",
       "      <td>35085.22134</td>\n",
       "      <td>30941.02</td>\n",
       "      <td>1</td>\n",
       "    </tr>\n",
       "    <tr>\n",
       "      <th>1</th>\n",
       "      <td>24</td>\n",
       "      <td>12622.05362</td>\n",
       "      <td>40557.96</td>\n",
       "      <td>1</td>\n",
       "    </tr>\n",
       "    <tr>\n",
       "      <th>2</th>\n",
       "      <td>16</td>\n",
       "      <td>11440.79806</td>\n",
       "      <td>89627.50</td>\n",
       "      <td>0</td>\n",
       "    </tr>\n",
       "    <tr>\n",
       "      <th>3</th>\n",
       "      <td>7</td>\n",
       "      <td>43167.32682</td>\n",
       "      <td>95276.14</td>\n",
       "      <td>0</td>\n",
       "    </tr>\n",
       "    <tr>\n",
       "      <th>4</th>\n",
       "      <td>8</td>\n",
       "      <td>12770.11290</td>\n",
       "      <td>117384.68</td>\n",
       "      <td>1</td>\n",
       "    </tr>\n",
       "    <tr>\n",
       "      <th>...</th>\n",
       "      <td>...</td>\n",
       "      <td>...</td>\n",
       "      <td>...</td>\n",
       "      <td>...</td>\n",
       "    </tr>\n",
       "    <tr>\n",
       "      <th>9995</th>\n",
       "      <td>16</td>\n",
       "      <td>25060.64248</td>\n",
       "      <td>97112.86</td>\n",
       "      <td>0</td>\n",
       "    </tr>\n",
       "    <tr>\n",
       "      <th>9996</th>\n",
       "      <td>20</td>\n",
       "      <td>21317.31764</td>\n",
       "      <td>107424.63</td>\n",
       "      <td>1</td>\n",
       "    </tr>\n",
       "    <tr>\n",
       "      <th>9997</th>\n",
       "      <td>8</td>\n",
       "      <td>20950.38812</td>\n",
       "      <td>93856.99</td>\n",
       "      <td>0</td>\n",
       "    </tr>\n",
       "    <tr>\n",
       "      <th>9998</th>\n",
       "      <td>11</td>\n",
       "      <td>16840.13376</td>\n",
       "      <td>51250.57</td>\n",
       "      <td>1</td>\n",
       "    </tr>\n",
       "    <tr>\n",
       "      <th>9999</th>\n",
       "      <td>23</td>\n",
       "      <td>19894.66108</td>\n",
       "      <td>87945.73</td>\n",
       "      <td>0</td>\n",
       "    </tr>\n",
       "  </tbody>\n",
       "</table>\n",
       "<p>10000 rows × 4 columns</p>\n",
       "</div>"
      ],
      "text/plain": [
       "      age_model      km_year      price  sold\n",
       "0            22  35085.22134   30941.02     1\n",
       "1            24  12622.05362   40557.96     1\n",
       "2            16  11440.79806   89627.50     0\n",
       "3             7  43167.32682   95276.14     0\n",
       "4             8  12770.11290  117384.68     1\n",
       "...         ...          ...        ...   ...\n",
       "9995         16  25060.64248   97112.86     0\n",
       "9996         20  21317.31764  107424.63     1\n",
       "9997          8  20950.38812   93856.99     0\n",
       "9998         11  16840.13376   51250.57     1\n",
       "9999         23  19894.66108   87945.73     0\n",
       "\n",
       "[10000 rows x 4 columns]"
      ]
     },
     "execution_count": 12,
     "metadata": {},
     "output_type": "execute_result"
    }
   ],
   "source": [
    "dados"
   ]
  },
  {
   "cell_type": "code",
   "execution_count": 13,
   "id": "a5c3f721-8ec1-4b39-b6af-305ecba5e5a7",
   "metadata": {},
   "outputs": [],
   "source": [
    "x = dados[['age_model','km_year','price']]\n",
    "y = dados['sold']"
   ]
  },
  {
   "cell_type": "code",
   "execution_count": 14,
   "id": "5072c68b-bf35-48ed-bac7-661be03b8456",
   "metadata": {},
   "outputs": [],
   "source": [
    "from sklearn.model_selection import train_test_split\n",
    "from sklearn.svm import LinearSVC\n",
    "from sklearn.metrics import accuracy_score"
   ]
  },
  {
   "cell_type": "code",
   "execution_count": 15,
   "id": "e1a1c0f5-661d-49aa-a261-fa0e59dc9ef8",
   "metadata": {},
   "outputs": [],
   "source": [
    "SEED = 5\n",
    "np.random.seed(SEED)"
   ]
  },
  {
   "cell_type": "code",
   "execution_count": 16,
   "id": "c2505640-5ced-4cd4-837d-e2ca0ebd1f97",
   "metadata": {},
   "outputs": [
    {
     "name": "stdout",
     "output_type": "stream",
     "text": [
      "Treinaremos com 7500 dados e testaremos com 2500\n"
     ]
    }
   ],
   "source": [
    "train_x,test_x,train_y,test_y = train_test_split(x,y,test_size = 0.25, stratify = y)\n",
    "print(f'Treinaremos com {len(train_x)} dados e testaremos com {len(test_x)}')"
   ]
  },
  {
   "cell_type": "code",
   "execution_count": 17,
   "id": "3453258d-7a18-4d32-9858-05482e60a1d9",
   "metadata": {},
   "outputs": [
    {
     "name": "stderr",
     "output_type": "stream",
     "text": [
      "C:\\Users\\thanael.butewicz\\Anaconda3\\lib\\site-packages\\sklearn\\svm\\_base.py:985: ConvergenceWarning: Liblinear failed to converge, increase the number of iterations.\n",
      "  warnings.warn(\"Liblinear failed to converge, increase \"\n"
     ]
    }
   ],
   "source": [
    "modelo = LinearSVC()\n",
    "modelo.fit(train_x,train_y)\n",
    "predict = modelo.predict(test_x)"
   ]
  },
  {
   "cell_type": "code",
   "execution_count": 18,
   "id": "4bdf6f8d-2f34-4999-9ac8-c5275509c51e",
   "metadata": {},
   "outputs": [
    {
     "data": {
      "text/plain": [
       "46.88"
      ]
     },
     "execution_count": 18,
     "metadata": {},
     "output_type": "execute_result"
    }
   ],
   "source": [
    "accuracy = accuracy_score(test_y, predict) * 100\n",
    "accuracy"
   ]
  },
  {
   "cell_type": "markdown",
   "id": "9bf0b95d-8162-4efa-a8bb-55349710d5f9",
   "metadata": {},
   "source": [
    "## Dummy Estimator\n",
    "Estimador bobo"
   ]
  },
  {
   "cell_type": "code",
   "execution_count": 19,
   "id": "b3b08368-c144-4fe7-90f9-0d71d91576a0",
   "metadata": {},
   "outputs": [],
   "source": [
    "from sklearn.dummy import DummyClassifier"
   ]
  },
  {
   "cell_type": "code",
   "execution_count": 20,
   "id": "e4500bf6-8a82-4a05-8bba-0a8af22bf02d",
   "metadata": {},
   "outputs": [],
   "source": [
    "dummy_stratified = DummyClassifier()\n",
    "\n",
    "dummy_stratified.fit(train_x,train_y)\n",
    "predict = dummy_stratified.predict(test_x)"
   ]
  },
  {
   "cell_type": "code",
   "execution_count": 21,
   "id": "6f34cca6-be65-4f0c-bea2-9b41dff899d4",
   "metadata": {},
   "outputs": [
    {
     "data": {
      "text/plain": [
       "57.99999999999999"
      ]
     },
     "execution_count": 21,
     "metadata": {},
     "output_type": "execute_result"
    }
   ],
   "source": [
    "accuracy = accuracy_score(test_y, predict)*100\n",
    "accuracy"
   ]
  },
  {
   "cell_type": "markdown",
   "id": "04c650d5-fb44-4bbb-9c84-ed1c5c24b913",
   "metadata": {},
   "source": [
    "# SVC"
   ]
  },
  {
   "cell_type": "code",
   "execution_count": 22,
   "id": "30541a2d-41f9-4eda-9661-21cb433e7dab",
   "metadata": {},
   "outputs": [],
   "source": [
    "from sklearn.svm import SVC\n",
    "from sklearn.preprocessing import StandardScaler"
   ]
  },
  {
   "cell_type": "code",
   "execution_count": 23,
   "id": "dbe7bc95-627d-42a5-b302-1c9071929994",
   "metadata": {},
   "outputs": [
    {
     "name": "stdout",
     "output_type": "stream",
     "text": [
      "Treinaremos com 7500 elementos e testaremos com 2500 elementos\n"
     ]
    },
    {
     "data": {
      "text/plain": [
       "77.48"
      ]
     },
     "execution_count": 23,
     "metadata": {},
     "output_type": "execute_result"
    }
   ],
   "source": [
    "SEED = 5\n",
    "np.random.seed(SEED)\n",
    "\n",
    "raw_train_x, raw_test_x, train_y, test_y = train_test_split(x, y, test_size = 0.25,stratify = y)\n",
    "\n",
    "print(\"Treinaremos com %d elementos e testaremos com %d elementos\" % (len(raw_train_x), len(raw_test_x)))\n",
    "\n",
    "scaler = StandardScaler()\n",
    "scaler.fit(raw_train_x)\n",
    "train_x = scaler.transform(raw_train_x)\n",
    "test_x  = scaler.transform(raw_test_x)\n",
    "\n",
    "\n",
    "modelo = SVC(gamma='auto')\n",
    "modelo.fit(train_x,train_y)\n",
    "predict = modelo.predict(test_x)\n",
    "\n",
    "accuracy = accuracy_score(test_y, predict) * 100\n",
    "accuracy"
   ]
  },
  {
   "cell_type": "markdown",
   "id": "2009a0d7-5fa1-4749-9ffd-f812ad175d92",
   "metadata": {},
   "source": [
    "# Decision Tree Classifier\n",
    "algoritmos que mostram o porque das motivos, chama-se de arvore de decisões"
   ]
  },
  {
   "cell_type": "code",
   "execution_count": 24,
   "id": "8211e9ee-18ed-4f12-be54-83f37c1f9b77",
   "metadata": {},
   "outputs": [],
   "source": [
    "from sklearn.tree import DecisionTreeClassifier"
   ]
  },
  {
   "cell_type": "code",
   "execution_count": 39,
   "id": "2fabf51f-c0af-43e9-8269-a3780f452709",
   "metadata": {},
   "outputs": [
    {
     "name": "stdout",
     "output_type": "stream",
     "text": [
      "Treinaremos com 7500 elementos e testaremos com 2500 elementos\n"
     ]
    },
    {
     "data": {
      "text/plain": [
       "79.28"
      ]
     },
     "execution_count": 39,
     "metadata": {},
     "output_type": "execute_result"
    }
   ],
   "source": [
    "EED = 5\n",
    "np.random.seed(SEED)\n",
    "\n",
    "raw_train_x, raw_test_x, train_y, test_y = train_test_split(x, y, test_size = 0.25,stratify = y)\n",
    "\n",
    "print(\"Treinaremos com %d elementos e testaremos com %d elementos\" % (len(raw_train_x), len(raw_test_x)))\n",
    "\n",
    "\n",
    "modelo = DecisionTreeClassifier(max_depth = 3)\n",
    "modelo.fit(raw_train_x,train_y)\n",
    "predict = modelo.predict(raw_test_x)\n",
    "\n",
    "accuracy = accuracy_score(test_y, predict)*100\n",
    "accuracy"
   ]
  },
  {
   "cell_type": "code",
   "execution_count": 40,
   "id": "d18db73a-1bee-4467-8118-a54be9e5fa95",
   "metadata": {},
   "outputs": [
    {
     "data": {
      "image/svg+xml": [
       "<?xml version=\"1.0\" encoding=\"UTF-8\" standalone=\"no\"?>\n",
       "<!DOCTYPE svg PUBLIC \"-//W3C//DTD SVG 1.1//EN\"\n",
       " \"http://www.w3.org/Graphics/SVG/1.1/DTD/svg11.dtd\">\n",
       "<!-- Generated by graphviz version 3.0.0 (20220226.1711)\n",
       " -->\n",
       "<!-- Title: Tree Pages: 1 -->\n",
       "<svg width=\"880pt\" height=\"433pt\"\n",
       " viewBox=\"0.00 0.00 880.00 433.00\" xmlns=\"http://www.w3.org/2000/svg\" xmlns:xlink=\"http://www.w3.org/1999/xlink\">\n",
       "<g id=\"graph0\" class=\"graph\" transform=\"scale(1 1) rotate(0) translate(4 429)\">\n",
       "<title>Tree</title>\n",
       "<polygon fill=\"white\" stroke=\"transparent\" points=\"-4,4 -4,-429 876,-429 876,4 -4,4\"/>\n",
       "<!-- 0 -->\n",
       "<g id=\"node1\" class=\"node\">\n",
       "<title>0</title>\n",
       "<path fill=\"#c8e4f8\" stroke=\"black\" d=\"M357,-425C357,-425 235,-425 235,-425 229,-425 223,-419 223,-413 223,-413 223,-354 223,-354 223,-348 229,-342 235,-342 235,-342 357,-342 357,-342 363,-342 369,-348 369,-354 369,-354 369,-413 369,-413 369,-419 363,-425 357,-425\"/>\n",
       "<text text-anchor=\"middle\" x=\"296\" y=\"-409.8\" font-family=\"Helvetica,sans-Serif\" font-size=\"14.00\">price &lt;= 59999.074</text>\n",
       "<text text-anchor=\"middle\" x=\"296\" y=\"-394.8\" font-family=\"Helvetica,sans-Serif\" font-size=\"14.00\">gini = 0.487</text>\n",
       "<text text-anchor=\"middle\" x=\"296\" y=\"-379.8\" font-family=\"Helvetica,sans-Serif\" font-size=\"14.00\">samples = 7500</text>\n",
       "<text text-anchor=\"middle\" x=\"296\" y=\"-364.8\" font-family=\"Helvetica,sans-Serif\" font-size=\"14.00\">value = [3150, 4350]</text>\n",
       "<text text-anchor=\"middle\" x=\"296\" y=\"-349.8\" font-family=\"Helvetica,sans-Serif\" font-size=\"14.00\">class = sim</text>\n",
       "</g>\n",
       "<!-- 1 -->\n",
       "<g id=\"node2\" class=\"node\">\n",
       "<title>1</title>\n",
       "<path fill=\"#52aae8\" stroke=\"black\" d=\"M270,-306C270,-306 152,-306 152,-306 146,-306 140,-300 140,-294 140,-294 140,-235 140,-235 140,-229 146,-223 152,-223 152,-223 270,-223 270,-223 276,-223 282,-229 282,-235 282,-235 282,-294 282,-294 282,-300 276,-306 270,-306\"/>\n",
       "<text text-anchor=\"middle\" x=\"211\" y=\"-290.8\" font-family=\"Helvetica,sans-Serif\" font-size=\"14.00\">price &lt;= 40070.154</text>\n",
       "<text text-anchor=\"middle\" x=\"211\" y=\"-275.8\" font-family=\"Helvetica,sans-Serif\" font-size=\"14.00\">gini = 0.202</text>\n",
       "<text text-anchor=\"middle\" x=\"211\" y=\"-260.8\" font-family=\"Helvetica,sans-Serif\" font-size=\"14.00\">samples = 3248</text>\n",
       "<text text-anchor=\"middle\" x=\"211\" y=\"-245.8\" font-family=\"Helvetica,sans-Serif\" font-size=\"14.00\">value = [370, 2878]</text>\n",
       "<text text-anchor=\"middle\" x=\"211\" y=\"-230.8\" font-family=\"Helvetica,sans-Serif\" font-size=\"14.00\">class = sim</text>\n",
       "</g>\n",
       "<!-- 0&#45;&gt;1 -->\n",
       "<g id=\"edge1\" class=\"edge\">\n",
       "<title>0&#45;&gt;1</title>\n",
       "<path fill=\"none\" stroke=\"black\" d=\"M266.51,-341.91C260.05,-333.01 253.14,-323.51 246.48,-314.33\"/>\n",
       "<polygon fill=\"black\" stroke=\"black\" points=\"249.15,-312.05 240.44,-306.02 243.48,-316.17 249.15,-312.05\"/>\n",
       "<text text-anchor=\"middle\" x=\"236.53\" y=\"-327.01\" font-family=\"Helvetica,sans-Serif\" font-size=\"14.00\">True</text>\n",
       "</g>\n",
       "<!-- 6 -->\n",
       "<g id=\"node7\" class=\"node\">\n",
       "<title>6</title>\n",
       "<path fill=\"#f3c4a2\" stroke=\"black\" d=\"M511,-306C511,-306 371,-306 371,-306 365,-306 359,-300 359,-294 359,-294 359,-235 359,-235 359,-229 365,-223 371,-223 371,-223 511,-223 511,-223 517,-223 523,-229 523,-235 523,-235 523,-294 523,-294 523,-300 517,-306 511,-306\"/>\n",
       "<text text-anchor=\"middle\" x=\"441\" y=\"-290.8\" font-family=\"Helvetica,sans-Serif\" font-size=\"14.00\">km_year &lt;= 24112.741</text>\n",
       "<text text-anchor=\"middle\" x=\"441\" y=\"-275.8\" font-family=\"Helvetica,sans-Serif\" font-size=\"14.00\">gini = 0.453</text>\n",
       "<text text-anchor=\"middle\" x=\"441\" y=\"-260.8\" font-family=\"Helvetica,sans-Serif\" font-size=\"14.00\">samples = 4252</text>\n",
       "<text text-anchor=\"middle\" x=\"441\" y=\"-245.8\" font-family=\"Helvetica,sans-Serif\" font-size=\"14.00\">value = [2780, 1472]</text>\n",
       "<text text-anchor=\"middle\" x=\"441\" y=\"-230.8\" font-family=\"Helvetica,sans-Serif\" font-size=\"14.00\">class = nao</text>\n",
       "</g>\n",
       "<!-- 0&#45;&gt;6 -->\n",
       "<g id=\"edge6\" class=\"edge\">\n",
       "<title>0&#45;&gt;6</title>\n",
       "<path fill=\"none\" stroke=\"black\" d=\"M346.31,-341.91C358.12,-332.38 370.79,-322.15 382.91,-312.37\"/>\n",
       "<polygon fill=\"black\" stroke=\"black\" points=\"385.2,-315.02 390.78,-306.02 380.8,-309.58 385.2,-315.02\"/>\n",
       "<text text-anchor=\"middle\" x=\"388.13\" y=\"-327.18\" font-family=\"Helvetica,sans-Serif\" font-size=\"14.00\">False</text>\n",
       "</g>\n",
       "<!-- 2 -->\n",
       "<g id=\"node3\" class=\"node\">\n",
       "<title>2</title>\n",
       "<path fill=\"#399de5\" stroke=\"black\" d=\"M110,-179.5C110,-179.5 12,-179.5 12,-179.5 6,-179.5 0,-173.5 0,-167.5 0,-167.5 0,-123.5 0,-123.5 0,-117.5 6,-111.5 12,-111.5 12,-111.5 110,-111.5 110,-111.5 116,-111.5 122,-117.5 122,-123.5 122,-123.5 122,-167.5 122,-167.5 122,-173.5 116,-179.5 110,-179.5\"/>\n",
       "<text text-anchor=\"middle\" x=\"61\" y=\"-164.3\" font-family=\"Helvetica,sans-Serif\" font-size=\"14.00\">gini = 0.0</text>\n",
       "<text text-anchor=\"middle\" x=\"61\" y=\"-149.3\" font-family=\"Helvetica,sans-Serif\" font-size=\"14.00\">samples = 1441</text>\n",
       "<text text-anchor=\"middle\" x=\"61\" y=\"-134.3\" font-family=\"Helvetica,sans-Serif\" font-size=\"14.00\">value = [0, 1441]</text>\n",
       "<text text-anchor=\"middle\" x=\"61\" y=\"-119.3\" font-family=\"Helvetica,sans-Serif\" font-size=\"14.00\">class = sim</text>\n",
       "</g>\n",
       "<!-- 1&#45;&gt;2 -->\n",
       "<g id=\"edge2\" class=\"edge\">\n",
       "<title>1&#45;&gt;2</title>\n",
       "<path fill=\"none\" stroke=\"black\" d=\"M158.96,-222.91C143.68,-210.99 126.99,-197.98 111.79,-186.12\"/>\n",
       "<polygon fill=\"black\" stroke=\"black\" points=\"113.56,-183.06 103.52,-179.67 109.25,-188.58 113.56,-183.06\"/>\n",
       "</g>\n",
       "<!-- 3 -->\n",
       "<g id=\"node4\" class=\"node\">\n",
       "<title>3</title>\n",
       "<path fill=\"#6cb6ec\" stroke=\"black\" d=\"M270,-187C270,-187 152,-187 152,-187 146,-187 140,-181 140,-175 140,-175 140,-116 140,-116 140,-110 146,-104 152,-104 152,-104 270,-104 270,-104 276,-104 282,-110 282,-116 282,-116 282,-175 282,-175 282,-181 276,-187 270,-187\"/>\n",
       "<text text-anchor=\"middle\" x=\"211\" y=\"-171.8\" font-family=\"Helvetica,sans-Serif\" font-size=\"14.00\">price &lt;= 40723.646</text>\n",
       "<text text-anchor=\"middle\" x=\"211\" y=\"-156.8\" font-family=\"Helvetica,sans-Serif\" font-size=\"14.00\">gini = 0.326</text>\n",
       "<text text-anchor=\"middle\" x=\"211\" y=\"-141.8\" font-family=\"Helvetica,sans-Serif\" font-size=\"14.00\">samples = 1807</text>\n",
       "<text text-anchor=\"middle\" x=\"211\" y=\"-126.8\" font-family=\"Helvetica,sans-Serif\" font-size=\"14.00\">value = [370, 1437]</text>\n",
       "<text text-anchor=\"middle\" x=\"211\" y=\"-111.8\" font-family=\"Helvetica,sans-Serif\" font-size=\"14.00\">class = sim</text>\n",
       "</g>\n",
       "<!-- 1&#45;&gt;3 -->\n",
       "<g id=\"edge3\" class=\"edge\">\n",
       "<title>1&#45;&gt;3</title>\n",
       "<path fill=\"none\" stroke=\"black\" d=\"M211,-222.91C211,-214.65 211,-205.86 211,-197.3\"/>\n",
       "<polygon fill=\"black\" stroke=\"black\" points=\"214.5,-197.02 211,-187.02 207.5,-197.02 214.5,-197.02\"/>\n",
       "</g>\n",
       "<!-- 4 -->\n",
       "<g id=\"node5\" class=\"node\">\n",
       "<title>4</title>\n",
       "<path fill=\"#9acdf2\" stroke=\"black\" d=\"M111.5,-68C111.5,-68 22.5,-68 22.5,-68 16.5,-68 10.5,-62 10.5,-56 10.5,-56 10.5,-12 10.5,-12 10.5,-6 16.5,0 22.5,0 22.5,0 111.5,0 111.5,0 117.5,0 123.5,-6 123.5,-12 123.5,-12 123.5,-56 123.5,-56 123.5,-62 117.5,-68 111.5,-68\"/>\n",
       "<text text-anchor=\"middle\" x=\"67\" y=\"-52.8\" font-family=\"Helvetica,sans-Serif\" font-size=\"14.00\">gini = 0.441</text>\n",
       "<text text-anchor=\"middle\" x=\"67\" y=\"-37.8\" font-family=\"Helvetica,sans-Serif\" font-size=\"14.00\">samples = 61</text>\n",
       "<text text-anchor=\"middle\" x=\"67\" y=\"-22.8\" font-family=\"Helvetica,sans-Serif\" font-size=\"14.00\">value = [20, 41]</text>\n",
       "<text text-anchor=\"middle\" x=\"67\" y=\"-7.8\" font-family=\"Helvetica,sans-Serif\" font-size=\"14.00\">class = sim</text>\n",
       "</g>\n",
       "<!-- 3&#45;&gt;4 -->\n",
       "<g id=\"edge4\" class=\"edge\">\n",
       "<title>3&#45;&gt;4</title>\n",
       "<path fill=\"none\" stroke=\"black\" d=\"M157.38,-103.73C144.79,-94.15 131.39,-83.96 118.87,-74.44\"/>\n",
       "<polygon fill=\"black\" stroke=\"black\" points=\"120.87,-71.57 110.79,-68.3 116.63,-77.14 120.87,-71.57\"/>\n",
       "</g>\n",
       "<!-- 5 -->\n",
       "<g id=\"node6\" class=\"node\">\n",
       "<title>5</title>\n",
       "<path fill=\"#6bb6ec\" stroke=\"black\" d=\"M268,-68C268,-68 154,-68 154,-68 148,-68 142,-62 142,-56 142,-56 142,-12 142,-12 142,-6 148,0 154,0 154,0 268,0 268,0 274,0 280,-6 280,-12 280,-12 280,-56 280,-56 280,-62 274,-68 268,-68\"/>\n",
       "<text text-anchor=\"middle\" x=\"211\" y=\"-52.8\" font-family=\"Helvetica,sans-Serif\" font-size=\"14.00\">gini = 0.321</text>\n",
       "<text text-anchor=\"middle\" x=\"211\" y=\"-37.8\" font-family=\"Helvetica,sans-Serif\" font-size=\"14.00\">samples = 1746</text>\n",
       "<text text-anchor=\"middle\" x=\"211\" y=\"-22.8\" font-family=\"Helvetica,sans-Serif\" font-size=\"14.00\">value = [350, 1396]</text>\n",
       "<text text-anchor=\"middle\" x=\"211\" y=\"-7.8\" font-family=\"Helvetica,sans-Serif\" font-size=\"14.00\">class = sim</text>\n",
       "</g>\n",
       "<!-- 3&#45;&gt;5 -->\n",
       "<g id=\"edge5\" class=\"edge\">\n",
       "<title>3&#45;&gt;5</title>\n",
       "<path fill=\"none\" stroke=\"black\" d=\"M211,-103.73C211,-95.52 211,-86.86 211,-78.56\"/>\n",
       "<polygon fill=\"black\" stroke=\"black\" points=\"214.5,-78.3 211,-68.3 207.5,-78.3 214.5,-78.3\"/>\n",
       "</g>\n",
       "<!-- 7 -->\n",
       "<g id=\"node8\" class=\"node\">\n",
       "<title>7</title>\n",
       "<path fill=\"#fcf0e7\" stroke=\"black\" d=\"M502,-187C502,-187 380,-187 380,-187 374,-187 368,-181 368,-175 368,-175 368,-116 368,-116 368,-110 374,-104 380,-104 380,-104 502,-104 502,-104 508,-104 514,-110 514,-116 514,-116 514,-175 514,-175 514,-181 508,-187 502,-187\"/>\n",
       "<text text-anchor=\"middle\" x=\"441\" y=\"-171.8\" font-family=\"Helvetica,sans-Serif\" font-size=\"14.00\">price &lt;= 99974.41</text>\n",
       "<text text-anchor=\"middle\" x=\"441\" y=\"-156.8\" font-family=\"Helvetica,sans-Serif\" font-size=\"14.00\">gini = 0.498</text>\n",
       "<text text-anchor=\"middle\" x=\"441\" y=\"-141.8\" font-family=\"Helvetica,sans-Serif\" font-size=\"14.00\">samples = 2649</text>\n",
       "<text text-anchor=\"middle\" x=\"441\" y=\"-126.8\" font-family=\"Helvetica,sans-Serif\" font-size=\"14.00\">value = [1409, 1240]</text>\n",
       "<text text-anchor=\"middle\" x=\"441\" y=\"-111.8\" font-family=\"Helvetica,sans-Serif\" font-size=\"14.00\">class = nao</text>\n",
       "</g>\n",
       "<!-- 6&#45;&gt;7 -->\n",
       "<g id=\"edge7\" class=\"edge\">\n",
       "<title>6&#45;&gt;7</title>\n",
       "<path fill=\"none\" stroke=\"black\" d=\"M441,-222.91C441,-214.65 441,-205.86 441,-197.3\"/>\n",
       "<polygon fill=\"black\" stroke=\"black\" points=\"444.5,-197.02 441,-187.02 437.5,-197.02 444.5,-197.02\"/>\n",
       "</g>\n",
       "<!-- 10 -->\n",
       "<g id=\"node11\" class=\"node\">\n",
       "<title>10</title>\n",
       "<path fill=\"#e9965b\" stroke=\"black\" d=\"M730,-187C730,-187 604,-187 604,-187 598,-187 592,-181 592,-175 592,-175 592,-116 592,-116 592,-110 598,-104 604,-104 604,-104 730,-104 730,-104 736,-104 742,-110 742,-116 742,-116 742,-175 742,-175 742,-181 736,-187 730,-187\"/>\n",
       "<text text-anchor=\"middle\" x=\"667\" y=\"-171.8\" font-family=\"Helvetica,sans-Serif\" font-size=\"14.00\">price &lt;= 100076.957</text>\n",
       "<text text-anchor=\"middle\" x=\"667\" y=\"-156.8\" font-family=\"Helvetica,sans-Serif\" font-size=\"14.00\">gini = 0.248</text>\n",
       "<text text-anchor=\"middle\" x=\"667\" y=\"-141.8\" font-family=\"Helvetica,sans-Serif\" font-size=\"14.00\">samples = 1603</text>\n",
       "<text text-anchor=\"middle\" x=\"667\" y=\"-126.8\" font-family=\"Helvetica,sans-Serif\" font-size=\"14.00\">value = [1371, 232]</text>\n",
       "<text text-anchor=\"middle\" x=\"667\" y=\"-111.8\" font-family=\"Helvetica,sans-Serif\" font-size=\"14.00\">class = nao</text>\n",
       "</g>\n",
       "<!-- 6&#45;&gt;10 -->\n",
       "<g id=\"edge10\" class=\"edge\">\n",
       "<title>6&#45;&gt;10</title>\n",
       "<path fill=\"none\" stroke=\"black\" d=\"M519.41,-222.91C539.84,-212.33 561.95,-200.89 582.67,-190.16\"/>\n",
       "<polygon fill=\"black\" stroke=\"black\" points=\"584.5,-193.15 591.77,-185.44 581.29,-186.93 584.5,-193.15\"/>\n",
       "</g>\n",
       "<!-- 8 -->\n",
       "<g id=\"node9\" class=\"node\">\n",
       "<title>8</title>\n",
       "<path fill=\"#f9e0cf\" stroke=\"black\" d=\"M424,-68C424,-68 310,-68 310,-68 304,-68 298,-62 298,-56 298,-56 298,-12 298,-12 298,-6 304,0 310,0 310,0 424,0 424,0 430,0 436,-6 436,-12 436,-12 436,-56 436,-56 436,-62 430,-68 424,-68\"/>\n",
       "<text text-anchor=\"middle\" x=\"367\" y=\"-52.8\" font-family=\"Helvetica,sans-Serif\" font-size=\"14.00\">gini = 0.49</text>\n",
       "<text text-anchor=\"middle\" x=\"367\" y=\"-37.8\" font-family=\"Helvetica,sans-Serif\" font-size=\"14.00\">samples = 2223</text>\n",
       "<text text-anchor=\"middle\" x=\"367\" y=\"-22.8\" font-family=\"Helvetica,sans-Serif\" font-size=\"14.00\">value = [1266, 957]</text>\n",
       "<text text-anchor=\"middle\" x=\"367\" y=\"-7.8\" font-family=\"Helvetica,sans-Serif\" font-size=\"14.00\">class = nao</text>\n",
       "</g>\n",
       "<!-- 7&#45;&gt;8 -->\n",
       "<g id=\"edge8\" class=\"edge\">\n",
       "<title>7&#45;&gt;8</title>\n",
       "<path fill=\"none\" stroke=\"black\" d=\"M413.45,-103.73C407.47,-94.88 401.13,-85.51 395.13,-76.63\"/>\n",
       "<polygon fill=\"black\" stroke=\"black\" points=\"398,-74.63 389.5,-68.3 392.2,-78.54 398,-74.63\"/>\n",
       "</g>\n",
       "<!-- 9 -->\n",
       "<g id=\"node10\" class=\"node\">\n",
       "<title>9</title>\n",
       "<path fill=\"#9dcff2\" stroke=\"black\" d=\"M572,-68C572,-68 466,-68 466,-68 460,-68 454,-62 454,-56 454,-56 454,-12 454,-12 454,-6 460,0 466,0 466,0 572,0 572,0 578,0 584,-6 584,-12 584,-12 584,-56 584,-56 584,-62 578,-68 572,-68\"/>\n",
       "<text text-anchor=\"middle\" x=\"519\" y=\"-52.8\" font-family=\"Helvetica,sans-Serif\" font-size=\"14.00\">gini = 0.446</text>\n",
       "<text text-anchor=\"middle\" x=\"519\" y=\"-37.8\" font-family=\"Helvetica,sans-Serif\" font-size=\"14.00\">samples = 426</text>\n",
       "<text text-anchor=\"middle\" x=\"519\" y=\"-22.8\" font-family=\"Helvetica,sans-Serif\" font-size=\"14.00\">value = [143, 283]</text>\n",
       "<text text-anchor=\"middle\" x=\"519\" y=\"-7.8\" font-family=\"Helvetica,sans-Serif\" font-size=\"14.00\">class = sim</text>\n",
       "</g>\n",
       "<!-- 7&#45;&gt;9 -->\n",
       "<g id=\"edge9\" class=\"edge\">\n",
       "<title>7&#45;&gt;9</title>\n",
       "<path fill=\"none\" stroke=\"black\" d=\"M470.04,-103.73C476.35,-94.88 483.02,-85.51 489.35,-76.63\"/>\n",
       "<polygon fill=\"black\" stroke=\"black\" points=\"492.33,-78.48 495.28,-68.3 486.63,-74.41 492.33,-78.48\"/>\n",
       "</g>\n",
       "<!-- 11 -->\n",
       "<g id=\"node12\" class=\"node\">\n",
       "<title>11</title>\n",
       "<path fill=\"#e68742\" stroke=\"black\" d=\"M720,-68C720,-68 614,-68 614,-68 608,-68 602,-62 602,-56 602,-56 602,-12 602,-12 602,-6 608,0 614,0 614,0 720,0 720,0 726,0 732,-6 732,-12 732,-12 732,-56 732,-56 732,-62 726,-68 720,-68\"/>\n",
       "<text text-anchor=\"middle\" x=\"667\" y=\"-52.8\" font-family=\"Helvetica,sans-Serif\" font-size=\"14.00\">gini = 0.086</text>\n",
       "<text text-anchor=\"middle\" x=\"667\" y=\"-37.8\" font-family=\"Helvetica,sans-Serif\" font-size=\"14.00\">samples = 1356</text>\n",
       "<text text-anchor=\"middle\" x=\"667\" y=\"-22.8\" font-family=\"Helvetica,sans-Serif\" font-size=\"14.00\">value = [1295, 61]</text>\n",
       "<text text-anchor=\"middle\" x=\"667\" y=\"-7.8\" font-family=\"Helvetica,sans-Serif\" font-size=\"14.00\">class = nao</text>\n",
       "</g>\n",
       "<!-- 10&#45;&gt;11 -->\n",
       "<g id=\"edge11\" class=\"edge\">\n",
       "<title>10&#45;&gt;11</title>\n",
       "<path fill=\"none\" stroke=\"black\" d=\"M667,-103.73C667,-95.52 667,-86.86 667,-78.56\"/>\n",
       "<polygon fill=\"black\" stroke=\"black\" points=\"670.5,-78.3 667,-68.3 663.5,-78.3 670.5,-78.3\"/>\n",
       "</g>\n",
       "<!-- 12 -->\n",
       "<g id=\"node13\" class=\"node\">\n",
       "<title>12</title>\n",
       "<path fill=\"#91c9f1\" stroke=\"black\" d=\"M860,-68C860,-68 762,-68 762,-68 756,-68 750,-62 750,-56 750,-56 750,-12 750,-12 750,-6 756,0 762,0 762,0 860,0 860,0 866,0 872,-6 872,-12 872,-12 872,-56 872,-56 872,-62 866,-68 860,-68\"/>\n",
       "<text text-anchor=\"middle\" x=\"811\" y=\"-52.8\" font-family=\"Helvetica,sans-Serif\" font-size=\"14.00\">gini = 0.426</text>\n",
       "<text text-anchor=\"middle\" x=\"811\" y=\"-37.8\" font-family=\"Helvetica,sans-Serif\" font-size=\"14.00\">samples = 247</text>\n",
       "<text text-anchor=\"middle\" x=\"811\" y=\"-22.8\" font-family=\"Helvetica,sans-Serif\" font-size=\"14.00\">value = [76, 171]</text>\n",
       "<text text-anchor=\"middle\" x=\"811\" y=\"-7.8\" font-family=\"Helvetica,sans-Serif\" font-size=\"14.00\">class = sim</text>\n",
       "</g>\n",
       "<!-- 10&#45;&gt;12 -->\n",
       "<g id=\"edge12\" class=\"edge\">\n",
       "<title>10&#45;&gt;12</title>\n",
       "<path fill=\"none\" stroke=\"black\" d=\"M720.62,-103.73C733.21,-94.15 746.61,-83.96 759.13,-74.44\"/>\n",
       "<polygon fill=\"black\" stroke=\"black\" points=\"761.37,-77.14 767.21,-68.3 757.13,-71.57 761.37,-77.14\"/>\n",
       "</g>\n",
       "</g>\n",
       "</svg>\n"
      ],
      "text/plain": [
       "<graphviz.sources.Source at 0x1c883545dc0>"
      ]
     },
     "execution_count": 40,
     "metadata": {},
     "output_type": "execute_result"
    }
   ],
   "source": [
    "from sklearn.tree import  export_graphviz\n",
    "import graphviz\n",
    "\n",
    "features = x.columns \n",
    "\n",
    "dot_data = export_graphviz(\n",
    "    modelo, \n",
    "    out_file=None,\n",
    "    feature_names=features,\n",
    "    filled=True,\n",
    "    rounded=True,\n",
    "    class_names=['nao','sim'])\n",
    "grafico = graphviz.Source(dot_data)\n",
    "grafico"
   ]
  },
  {
   "cell_type": "code",
   "execution_count": null,
   "id": "55fcee40-b131-4958-bf35-8074fc0c27e3",
   "metadata": {},
   "outputs": [],
   "source": []
  },
  {
   "cell_type": "code",
   "execution_count": null,
   "id": "0b8a9271-ba05-4709-be6e-9ccfb610b5de",
   "metadata": {},
   "outputs": [],
   "source": []
  },
  {
   "cell_type": "code",
   "execution_count": null,
   "id": "e47f672a-ef8c-46e3-9b19-71574849e3f0",
   "metadata": {},
   "outputs": [],
   "source": []
  },
  {
   "cell_type": "code",
   "execution_count": null,
   "id": "487cd2c5-3455-4f52-a58a-adc4ccc16d89",
   "metadata": {},
   "outputs": [],
   "source": []
  },
  {
   "cell_type": "code",
   "execution_count": null,
   "id": "c2d8579f-34e9-42c8-98ce-4680892a295a",
   "metadata": {},
   "outputs": [],
   "source": []
  },
  {
   "cell_type": "code",
   "execution_count": null,
   "id": "2df0e2b4-46b5-477f-9716-6eb3f5572c58",
   "metadata": {},
   "outputs": [],
   "source": []
  },
  {
   "cell_type": "code",
   "execution_count": null,
   "id": "6a2a9b1d-bb55-4545-8b0c-5edfb54151ae",
   "metadata": {},
   "outputs": [],
   "source": []
  },
  {
   "cell_type": "code",
   "execution_count": null,
   "id": "148c8550-cbae-4bdf-811e-f5c103b81a4e",
   "metadata": {},
   "outputs": [],
   "source": []
  },
  {
   "cell_type": "code",
   "execution_count": null,
   "id": "89ef62b7-117a-4ec0-988a-e86a5ee911e4",
   "metadata": {},
   "outputs": [],
   "source": []
  },
  {
   "cell_type": "code",
   "execution_count": null,
   "id": "0afa3bf2-1a78-415c-9836-2fd2ec60830d",
   "metadata": {},
   "outputs": [],
   "source": []
  },
  {
   "cell_type": "code",
   "execution_count": null,
   "id": "bbde498a-e1c1-4f4f-9b49-b3e023e3f41e",
   "metadata": {},
   "outputs": [],
   "source": []
  },
  {
   "cell_type": "code",
   "execution_count": null,
   "id": "60e9b64c-49c0-4571-a327-55c0074353ce",
   "metadata": {},
   "outputs": [],
   "source": []
  },
  {
   "cell_type": "code",
   "execution_count": null,
   "id": "bc285a64-b03a-4526-9c1f-dbcc41003c42",
   "metadata": {},
   "outputs": [],
   "source": []
  },
  {
   "cell_type": "code",
   "execution_count": null,
   "id": "adeef5ae-f445-4b7e-8cb6-afee5ae7b1c9",
   "metadata": {},
   "outputs": [],
   "source": []
  }
 ],
 "metadata": {
  "kernelspec": {
   "display_name": "Python 3 (ipykernel)",
   "language": "python",
   "name": "python3"
  },
  "language_info": {
   "codemirror_mode": {
    "name": "ipython",
    "version": 3
   },
   "file_extension": ".py",
   "mimetype": "text/x-python",
   "name": "python",
   "nbconvert_exporter": "python",
   "pygments_lexer": "ipython3",
   "version": "3.9.7"
  }
 },
 "nbformat": 4,
 "nbformat_minor": 5
}
