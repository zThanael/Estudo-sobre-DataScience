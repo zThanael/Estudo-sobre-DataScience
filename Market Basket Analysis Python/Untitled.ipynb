{
 "cells": [
  {
   "cell_type": "code",
   "execution_count": 1,
   "id": "6c90ee92-88b2-4c1f-ab2a-393e568fcbf8",
   "metadata": {},
   "outputs": [],
   "source": [
    "import pandas as pd\n",
    "import numpy as np\n",
    "from itertools import permutations"
   ]
  },
  {
   "cell_type": "code",
   "execution_count": 2,
   "id": "54be84e0-0aa6-4027-906d-41a2f76d2636",
   "metadata": {},
   "outputs": [],
   "source": [
    "books = pd.read_csv('data/bookstore_transactions.csv')"
   ]
  },
  {
   "cell_type": "code",
   "execution_count": 3,
   "id": "ea50f264-d662-404a-b8c7-c43f2d05c559",
   "metadata": {},
   "outputs": [],
   "source": [
    "transactions = books['Transaction'].apply(lambda x:x.split(','))"
   ]
  },
  {
   "cell_type": "markdown",
   "id": "0f45b637-8752-4722-aba8-19b4a5feb914",
   "metadata": {},
   "source": [
    "### Obter os generos dos livros"
   ]
  },
  {
   "cell_type": "code",
   "execution_count": 4,
   "id": "35b460a0-b122-41e1-91f5-660d7b7345e8",
   "metadata": {},
   "outputs": [],
   "source": [
    "flattened = [item for transaction in transactions for item in transaction]"
   ]
  },
  {
   "cell_type": "code",
   "execution_count": 5,
   "id": "7ccb6a59-6bd8-4b4a-a86e-4663ec327f37",
   "metadata": {},
   "outputs": [],
   "source": [
    "#Lista com todos os livros \n",
    "#flattened"
   ]
  },
  {
   "cell_type": "code",
   "execution_count": 6,
   "id": "9658ce0a-b96c-4c1d-9906-27ac9e94b993",
   "metadata": {},
   "outputs": [],
   "source": [
    "items = list(set(flattened))"
   ]
  },
  {
   "cell_type": "code",
   "execution_count": 7,
   "id": "8afce933-ee52-467e-9e44-707811677974",
   "metadata": {},
   "outputs": [
    {
     "data": {
      "text/plain": [
       "['Fiction', 'History', 'Poetry', 'Bookmark', 'Biography']"
      ]
     },
     "execution_count": 7,
     "metadata": {},
     "output_type": "execute_result"
    }
   ],
   "source": [
    "items"
   ]
  },
  {
   "cell_type": "markdown",
   "id": "9468da43-f05a-44e0-bcee-665260a8f9b0",
   "metadata": {
    "tags": []
   },
   "source": [
    "### Mostrar as regras de associação"
   ]
  },
  {
   "cell_type": "code",
   "execution_count": 8,
   "id": "621bbc4a-ccb1-47c1-8041-2befbeee237a",
   "metadata": {},
   "outputs": [],
   "source": [
    "rules = list(permutations(items,2))"
   ]
  },
  {
   "cell_type": "code",
   "execution_count": 9,
   "id": "7e5ce4b1-d6ee-43a3-8768-84d455790a09",
   "metadata": {},
   "outputs": [
    {
     "data": {
      "text/plain": [
       "[('Fiction', 'History'),\n",
       " ('Fiction', 'Poetry'),\n",
       " ('Fiction', 'Bookmark'),\n",
       " ('Fiction', 'Biography'),\n",
       " ('History', 'Fiction'),\n",
       " ('History', 'Poetry'),\n",
       " ('History', 'Bookmark'),\n",
       " ('History', 'Biography'),\n",
       " ('Poetry', 'Fiction'),\n",
       " ('Poetry', 'History'),\n",
       " ('Poetry', 'Bookmark'),\n",
       " ('Poetry', 'Biography'),\n",
       " ('Bookmark', 'Fiction'),\n",
       " ('Bookmark', 'History'),\n",
       " ('Bookmark', 'Poetry'),\n",
       " ('Bookmark', 'Biography'),\n",
       " ('Biography', 'Fiction'),\n",
       " ('Biography', 'History'),\n",
       " ('Biography', 'Poetry'),\n",
       " ('Biography', 'Bookmark')]"
      ]
     },
     "execution_count": 9,
     "metadata": {},
     "output_type": "execute_result"
    }
   ],
   "source": [
    "#Possiveis associações\n",
    "rules"
   ]
  },
  {
   "cell_type": "markdown",
   "id": "15738dda-d350-4f2e-86b8-d7d0595f0afe",
   "metadata": {},
   "source": [
    "### Criar as associações"
   ]
  },
  {
   "cell_type": "code",
   "execution_count": 10,
   "id": "9e477eb7-e433-4a93-a915-2e91d250c981",
   "metadata": {},
   "outputs": [],
   "source": [
    "from mlxtend.frequent_patterns import association_rules\n",
    "from mlxtend.preprocessing import TransactionEncoder\n",
    "from mlxtend.frequent_patterns import apriori"
   ]
  },
  {
   "cell_type": "code",
   "execution_count": 11,
   "id": "a99cde34-cebd-40f4-a6ed-dfe750cdfa3f",
   "metadata": {},
   "outputs": [
    {
     "data": {
      "text/plain": [
       "0       [History, Bookmark]\n",
       "1       [History, Bookmark]\n",
       "2       [Fiction, Bookmark]\n",
       "3     [Biography, Bookmark]\n",
       "4       [History, Bookmark]\n",
       "              ...          \n",
       "94    [Biography, Bookmark]\n",
       "95       [Poetry, Bookmark]\n",
       "96      [History, Bookmark]\n",
       "97    [Biography, Bookmark]\n",
       "98    [Biography, Bookmark]\n",
       "Name: Transaction, Length: 99, dtype: object"
      ]
     },
     "execution_count": 11,
     "metadata": {},
     "output_type": "execute_result"
    }
   ],
   "source": [
    "transactions"
   ]
  },
  {
   "cell_type": "code",
   "execution_count": 12,
   "id": "9c7157dd-f9eb-4b5c-93ff-302ce0b822bc",
   "metadata": {},
   "outputs": [],
   "source": [
    "encoder = TransactionEncoder().fit(transactions) # Cria o objeto Encoder"
   ]
  },
  {
   "cell_type": "code",
   "execution_count": 13,
   "id": "827b3bda-c5ed-4554-a002-8701eaabd73c",
   "metadata": {},
   "outputs": [],
   "source": [
    "onehot = encoder.transform(transactions) # Retorna um  array booleano\n",
    "onehot = pd.DataFrame(onehot,columns = encoder.columns_) # Cria um dataframe co"
   ]
  },
  {
   "cell_type": "code",
   "execution_count": 14,
   "id": "78368f1b-e041-4f34-8df7-4e8c42924192",
   "metadata": {},
   "outputs": [
    {
     "data": {
      "text/html": [
       "<div>\n",
       "<style scoped>\n",
       "    .dataframe tbody tr th:only-of-type {\n",
       "        vertical-align: middle;\n",
       "    }\n",
       "\n",
       "    .dataframe tbody tr th {\n",
       "        vertical-align: top;\n",
       "    }\n",
       "\n",
       "    .dataframe thead th {\n",
       "        text-align: right;\n",
       "    }\n",
       "</style>\n",
       "<table border=\"1\" class=\"dataframe\">\n",
       "  <thead>\n",
       "    <tr style=\"text-align: right;\">\n",
       "      <th></th>\n",
       "      <th>Biography</th>\n",
       "      <th>Bookmark</th>\n",
       "      <th>Fiction</th>\n",
       "      <th>History</th>\n",
       "      <th>Poetry</th>\n",
       "    </tr>\n",
       "  </thead>\n",
       "  <tbody>\n",
       "    <tr>\n",
       "      <th>0</th>\n",
       "      <td>False</td>\n",
       "      <td>True</td>\n",
       "      <td>False</td>\n",
       "      <td>True</td>\n",
       "      <td>False</td>\n",
       "    </tr>\n",
       "    <tr>\n",
       "      <th>1</th>\n",
       "      <td>False</td>\n",
       "      <td>True</td>\n",
       "      <td>False</td>\n",
       "      <td>True</td>\n",
       "      <td>False</td>\n",
       "    </tr>\n",
       "    <tr>\n",
       "      <th>2</th>\n",
       "      <td>False</td>\n",
       "      <td>True</td>\n",
       "      <td>True</td>\n",
       "      <td>False</td>\n",
       "      <td>False</td>\n",
       "    </tr>\n",
       "    <tr>\n",
       "      <th>3</th>\n",
       "      <td>True</td>\n",
       "      <td>True</td>\n",
       "      <td>False</td>\n",
       "      <td>False</td>\n",
       "      <td>False</td>\n",
       "    </tr>\n",
       "    <tr>\n",
       "      <th>4</th>\n",
       "      <td>False</td>\n",
       "      <td>True</td>\n",
       "      <td>False</td>\n",
       "      <td>True</td>\n",
       "      <td>False</td>\n",
       "    </tr>\n",
       "    <tr>\n",
       "      <th>...</th>\n",
       "      <td>...</td>\n",
       "      <td>...</td>\n",
       "      <td>...</td>\n",
       "      <td>...</td>\n",
       "      <td>...</td>\n",
       "    </tr>\n",
       "    <tr>\n",
       "      <th>94</th>\n",
       "      <td>True</td>\n",
       "      <td>True</td>\n",
       "      <td>False</td>\n",
       "      <td>False</td>\n",
       "      <td>False</td>\n",
       "    </tr>\n",
       "    <tr>\n",
       "      <th>95</th>\n",
       "      <td>False</td>\n",
       "      <td>True</td>\n",
       "      <td>False</td>\n",
       "      <td>False</td>\n",
       "      <td>True</td>\n",
       "    </tr>\n",
       "    <tr>\n",
       "      <th>96</th>\n",
       "      <td>False</td>\n",
       "      <td>True</td>\n",
       "      <td>False</td>\n",
       "      <td>True</td>\n",
       "      <td>False</td>\n",
       "    </tr>\n",
       "    <tr>\n",
       "      <th>97</th>\n",
       "      <td>True</td>\n",
       "      <td>True</td>\n",
       "      <td>False</td>\n",
       "      <td>False</td>\n",
       "      <td>False</td>\n",
       "    </tr>\n",
       "    <tr>\n",
       "      <th>98</th>\n",
       "      <td>True</td>\n",
       "      <td>True</td>\n",
       "      <td>False</td>\n",
       "      <td>False</td>\n",
       "      <td>False</td>\n",
       "    </tr>\n",
       "  </tbody>\n",
       "</table>\n",
       "<p>99 rows × 5 columns</p>\n",
       "</div>"
      ],
      "text/plain": [
       "    Biography  Bookmark  Fiction  History  Poetry\n",
       "0       False      True    False     True   False\n",
       "1       False      True    False     True   False\n",
       "2       False      True     True    False   False\n",
       "3        True      True    False    False   False\n",
       "4       False      True    False     True   False\n",
       "..        ...       ...      ...      ...     ...\n",
       "94       True      True    False    False   False\n",
       "95      False      True    False    False    True\n",
       "96      False      True    False     True   False\n",
       "97       True      True    False    False   False\n",
       "98       True      True    False    False   False\n",
       "\n",
       "[99 rows x 5 columns]"
      ]
     },
     "execution_count": 14,
     "metadata": {},
     "output_type": "execute_result"
    }
   ],
   "source": [
    "onehot"
   ]
  },
  {
   "cell_type": "code",
   "execution_count": 15,
   "id": "3ce75af7-e4bc-461e-bd54-350d2769a989",
   "metadata": {},
   "outputs": [
    {
     "data": {
      "text/plain": [
       "0     False\n",
       "1     False\n",
       "2     False\n",
       "3     False\n",
       "4     False\n",
       "      ...  \n",
       "94    False\n",
       "95    False\n",
       "96    False\n",
       "97    False\n",
       "98    False\n",
       "Name: Fiction+Poetry, Length: 99, dtype: bool"
      ]
     },
     "execution_count": 15,
     "metadata": {},
     "output_type": "execute_result"
    }
   ],
   "source": [
    "onehot['Fiction+Poetry'] = np.logical_and(onehot['Fiction'],onehot['Poetry'])\n",
    "onehot['Fiction+Poetry']"
   ]
  },
  {
   "cell_type": "code",
   "execution_count": 16,
   "id": "f52d4580-23ee-489f-abef-6088cbfdc6a2",
   "metadata": {},
   "outputs": [
    {
     "data": {
      "text/html": [
       "<div>\n",
       "<style scoped>\n",
       "    .dataframe tbody tr th:only-of-type {\n",
       "        vertical-align: middle;\n",
       "    }\n",
       "\n",
       "    .dataframe tbody tr th {\n",
       "        vertical-align: top;\n",
       "    }\n",
       "\n",
       "    .dataframe thead th {\n",
       "        text-align: right;\n",
       "    }\n",
       "</style>\n",
       "<table border=\"1\" class=\"dataframe\">\n",
       "  <thead>\n",
       "    <tr style=\"text-align: right;\">\n",
       "      <th></th>\n",
       "      <th>Biography</th>\n",
       "      <th>Bookmark</th>\n",
       "      <th>Fiction</th>\n",
       "      <th>History</th>\n",
       "      <th>Poetry</th>\n",
       "      <th>Fiction+Poetry</th>\n",
       "    </tr>\n",
       "  </thead>\n",
       "  <tbody>\n",
       "  </tbody>\n",
       "</table>\n",
       "</div>"
      ],
      "text/plain": [
       "Empty DataFrame\n",
       "Columns: [Biography, Bookmark, Fiction, History, Poetry, Fiction+Poetry]\n",
       "Index: []"
      ]
     },
     "execution_count": 16,
     "metadata": {},
     "output_type": "execute_result"
    }
   ],
   "source": [
    "onehot[(onehot['Fiction'] == True) & (onehot['Poetry'] == True)]"
   ]
  },
  {
   "cell_type": "code",
   "execution_count": 23,
   "id": "3acdbd46-463a-4cea-9a57-0f757c307428",
   "metadata": {},
   "outputs": [
    {
     "data": {
      "text/html": [
       "<div>\n",
       "<style scoped>\n",
       "    .dataframe tbody tr th:only-of-type {\n",
       "        vertical-align: middle;\n",
       "    }\n",
       "\n",
       "    .dataframe tbody tr th {\n",
       "        vertical-align: top;\n",
       "    }\n",
       "\n",
       "    .dataframe thead th {\n",
       "        text-align: right;\n",
       "    }\n",
       "</style>\n",
       "<table border=\"1\" class=\"dataframe\">\n",
       "  <thead>\n",
       "    <tr style=\"text-align: right;\">\n",
       "      <th></th>\n",
       "      <th>Biography</th>\n",
       "      <th>Bookmark</th>\n",
       "      <th>Fiction</th>\n",
       "      <th>History</th>\n",
       "      <th>Poetry</th>\n",
       "      <th>Fiction+Poetry</th>\n",
       "    </tr>\n",
       "  </thead>\n",
       "  <tbody>\n",
       "  </tbody>\n",
       "</table>\n",
       "</div>"
      ],
      "text/plain": [
       "Empty DataFrame\n",
       "Columns: [Biography, Bookmark, Fiction, History, Poetry, Fiction+Poetry]\n",
       "Index: []"
      ]
     },
     "execution_count": 23,
     "metadata": {},
     "output_type": "execute_result"
    }
   ],
   "source": [
    "onehot[(onehot['Poetry']==True) & (onehot['History']==True)]"
   ]
  },
  {
   "cell_type": "code",
   "execution_count": 21,
   "id": "257e69f7-eb1f-4192-aac5-4aa4cc9bcfd6",
   "metadata": {},
   "outputs": [
    {
     "data": {
      "text/html": [
       "<div>\n",
       "<style scoped>\n",
       "    .dataframe tbody tr th:only-of-type {\n",
       "        vertical-align: middle;\n",
       "    }\n",
       "\n",
       "    .dataframe tbody tr th {\n",
       "        vertical-align: top;\n",
       "    }\n",
       "\n",
       "    .dataframe thead th {\n",
       "        text-align: right;\n",
       "    }\n",
       "</style>\n",
       "<table border=\"1\" class=\"dataframe\">\n",
       "  <thead>\n",
       "    <tr style=\"text-align: right;\">\n",
       "      <th></th>\n",
       "      <th>Biography</th>\n",
       "      <th>Bookmark</th>\n",
       "      <th>Fiction</th>\n",
       "      <th>History</th>\n",
       "      <th>Poetry</th>\n",
       "      <th>Fiction+Poetry</th>\n",
       "    </tr>\n",
       "  </thead>\n",
       "  <tbody>\n",
       "    <tr>\n",
       "      <th>0</th>\n",
       "      <td>False</td>\n",
       "      <td>True</td>\n",
       "      <td>False</td>\n",
       "      <td>True</td>\n",
       "      <td>False</td>\n",
       "      <td>False</td>\n",
       "    </tr>\n",
       "    <tr>\n",
       "      <th>1</th>\n",
       "      <td>False</td>\n",
       "      <td>True</td>\n",
       "      <td>False</td>\n",
       "      <td>True</td>\n",
       "      <td>False</td>\n",
       "      <td>False</td>\n",
       "    </tr>\n",
       "    <tr>\n",
       "      <th>2</th>\n",
       "      <td>False</td>\n",
       "      <td>True</td>\n",
       "      <td>True</td>\n",
       "      <td>False</td>\n",
       "      <td>False</td>\n",
       "      <td>False</td>\n",
       "    </tr>\n",
       "    <tr>\n",
       "      <th>3</th>\n",
       "      <td>True</td>\n",
       "      <td>True</td>\n",
       "      <td>False</td>\n",
       "      <td>False</td>\n",
       "      <td>False</td>\n",
       "      <td>False</td>\n",
       "    </tr>\n",
       "    <tr>\n",
       "      <th>4</th>\n",
       "      <td>False</td>\n",
       "      <td>True</td>\n",
       "      <td>False</td>\n",
       "      <td>True</td>\n",
       "      <td>False</td>\n",
       "      <td>False</td>\n",
       "    </tr>\n",
       "    <tr>\n",
       "      <th>...</th>\n",
       "      <td>...</td>\n",
       "      <td>...</td>\n",
       "      <td>...</td>\n",
       "      <td>...</td>\n",
       "      <td>...</td>\n",
       "      <td>...</td>\n",
       "    </tr>\n",
       "    <tr>\n",
       "      <th>94</th>\n",
       "      <td>True</td>\n",
       "      <td>True</td>\n",
       "      <td>False</td>\n",
       "      <td>False</td>\n",
       "      <td>False</td>\n",
       "      <td>False</td>\n",
       "    </tr>\n",
       "    <tr>\n",
       "      <th>95</th>\n",
       "      <td>False</td>\n",
       "      <td>True</td>\n",
       "      <td>False</td>\n",
       "      <td>False</td>\n",
       "      <td>True</td>\n",
       "      <td>False</td>\n",
       "    </tr>\n",
       "    <tr>\n",
       "      <th>96</th>\n",
       "      <td>False</td>\n",
       "      <td>True</td>\n",
       "      <td>False</td>\n",
       "      <td>True</td>\n",
       "      <td>False</td>\n",
       "      <td>False</td>\n",
       "    </tr>\n",
       "    <tr>\n",
       "      <th>97</th>\n",
       "      <td>True</td>\n",
       "      <td>True</td>\n",
       "      <td>False</td>\n",
       "      <td>False</td>\n",
       "      <td>False</td>\n",
       "      <td>False</td>\n",
       "    </tr>\n",
       "    <tr>\n",
       "      <th>98</th>\n",
       "      <td>True</td>\n",
       "      <td>True</td>\n",
       "      <td>False</td>\n",
       "      <td>False</td>\n",
       "      <td>False</td>\n",
       "      <td>False</td>\n",
       "    </tr>\n",
       "  </tbody>\n",
       "</table>\n",
       "<p>99 rows × 6 columns</p>\n",
       "</div>"
      ],
      "text/plain": [
       "    Biography  Bookmark  Fiction  History  Poetry  Fiction+Poetry\n",
       "0       False      True    False     True   False           False\n",
       "1       False      True    False     True   False           False\n",
       "2       False      True     True    False   False           False\n",
       "3        True      True    False    False   False           False\n",
       "4       False      True    False     True   False           False\n",
       "..        ...       ...      ...      ...     ...             ...\n",
       "94       True      True    False    False   False           False\n",
       "95      False      True    False    False    True           False\n",
       "96      False      True    False     True   False           False\n",
       "97       True      True    False    False   False           False\n",
       "98       True      True    False    False   False           False\n",
       "\n",
       "[99 rows x 6 columns]"
      ]
     },
     "execution_count": 21,
     "metadata": {},
     "output_type": "execute_result"
    }
   ],
   "source": [
    "onehot"
   ]
  },
  {
   "cell_type": "code",
   "execution_count": null,
   "id": "a18298fd-ed4d-4cd3-8c62-18187a4b5ad4",
   "metadata": {},
   "outputs": [],
   "source": []
  },
  {
   "cell_type": "markdown",
   "id": "ebe422bb-1e14-4a48-8dcd-a0c69141e83c",
   "metadata": {},
   "source": [
    "# MovieLens"
   ]
  },
  {
   "cell_type": "code",
   "execution_count": 1,
   "id": "bd763acb-a5e5-459f-9ef0-589940b0cba2",
   "metadata": {},
   "outputs": [],
   "source": [
    "import pandas as pd"
   ]
  },
  {
   "cell_type": "code",
   "execution_count": 4,
   "id": "6be9af09-2118-44c2-833b-cdc96bcc14e7",
   "metadata": {},
   "outputs": [
    {
     "data": {
      "text/html": [
       "<div>\n",
       "<style scoped>\n",
       "    .dataframe tbody tr th:only-of-type {\n",
       "        vertical-align: middle;\n",
       "    }\n",
       "\n",
       "    .dataframe tbody tr th {\n",
       "        vertical-align: top;\n",
       "    }\n",
       "\n",
       "    .dataframe thead th {\n",
       "        text-align: right;\n",
       "    }\n",
       "</style>\n",
       "<table border=\"1\" class=\"dataframe\">\n",
       "  <thead>\n",
       "    <tr style=\"text-align: right;\">\n",
       "      <th></th>\n",
       "      <th>movieId</th>\n",
       "      <th>title</th>\n",
       "      <th>genres</th>\n",
       "    </tr>\n",
       "  </thead>\n",
       "  <tbody>\n",
       "    <tr>\n",
       "      <th>0</th>\n",
       "      <td>1</td>\n",
       "      <td>Toy Story (1995)</td>\n",
       "      <td>Adventure|Animation|Children|Comedy|Fantasy</td>\n",
       "    </tr>\n",
       "    <tr>\n",
       "      <th>1</th>\n",
       "      <td>2</td>\n",
       "      <td>Jumanji (1995)</td>\n",
       "      <td>Adventure|Children|Fantasy</td>\n",
       "    </tr>\n",
       "    <tr>\n",
       "      <th>2</th>\n",
       "      <td>3</td>\n",
       "      <td>Grumpier Old Men (1995)</td>\n",
       "      <td>Comedy|Romance</td>\n",
       "    </tr>\n",
       "    <tr>\n",
       "      <th>3</th>\n",
       "      <td>4</td>\n",
       "      <td>Waiting to Exhale (1995)</td>\n",
       "      <td>Comedy|Drama|Romance</td>\n",
       "    </tr>\n",
       "    <tr>\n",
       "      <th>4</th>\n",
       "      <td>5</td>\n",
       "      <td>Father of the Bride Part II (1995)</td>\n",
       "      <td>Comedy</td>\n",
       "    </tr>\n",
       "  </tbody>\n",
       "</table>\n",
       "</div>"
      ],
      "text/plain": [
       "   movieId                               title  \\\n",
       "0        1                    Toy Story (1995)   \n",
       "1        2                      Jumanji (1995)   \n",
       "2        3             Grumpier Old Men (1995)   \n",
       "3        4            Waiting to Exhale (1995)   \n",
       "4        5  Father of the Bride Part II (1995)   \n",
       "\n",
       "                                        genres  \n",
       "0  Adventure|Animation|Children|Comedy|Fantasy  \n",
       "1                   Adventure|Children|Fantasy  \n",
       "2                               Comedy|Romance  \n",
       "3                         Comedy|Drama|Romance  \n",
       "4                                       Comedy  "
      ]
     },
     "execution_count": 4,
     "metadata": {},
     "output_type": "execute_result"
    }
   ],
   "source": [
    "ratings = pd.read_csv('data/movielens_movies.csv')\n",
    "ratings.head(5)"
   ]
  },
  {
   "cell_type": "code",
   "execution_count": null,
   "id": "1791b840-7eb7-4a1c-874c-4bd12ca69090",
   "metadata": {},
   "outputs": [],
   "source": [
    "user_id = ratings["
   ]
  }
 ],
 "metadata": {
  "kernelspec": {
   "display_name": "Python 3 (ipykernel)",
   "language": "python",
   "name": "python3"
  },
  "language_info": {
   "codemirror_mode": {
    "name": "ipython",
    "version": 3
   },
   "file_extension": ".py",
   "mimetype": "text/x-python",
   "name": "python",
   "nbconvert_exporter": "python",
   "pygments_lexer": "ipython3",
   "version": "3.9.7"
  }
 },
 "nbformat": 4,
 "nbformat_minor": 5
}
