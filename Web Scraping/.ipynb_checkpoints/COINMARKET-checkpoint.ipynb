{
 "cells": [
  {
   "cell_type": "code",
   "execution_count": 1,
   "id": "2dc541a7-d6dd-4b77-88e3-6d133ccda61f",
   "metadata": {},
   "outputs": [],
   "source": [
    "import bs4\n",
    "from bs4 import BeautifulSoup\n",
    "\n",
    "import urllib.request as urllib_request\n",
    "\n",
    "from urllib.request import Request, urlopen\n",
    "from urllib.error import URLError, HTTPError\n"
   ]
  },
  {
   "cell_type": "code",
   "execution_count": 2,
   "id": "537f7ff8-7220-403d-9273-eb06b874e5cd",
   "metadata": {},
   "outputs": [],
   "source": [
    "def trata_html(html):\n",
    "    return \" \".join(html.split()).replace('> <','><')"
   ]
  },
  {
   "cell_type": "code",
   "execution_count": 33,
   "id": "2c48399a-ff5c-4cdb-989b-1e4ed04fba8c",
   "metadata": {},
   "outputs": [],
   "source": [
    "url = 'https://coinmarketcap.com/pt-br/currencies/metawar/'\n",
    "response = urlopen(url)\n",
    "html = response.read()\n",
    "\n",
    "# headers = {'User-Agent': 'Mozilla/5.0 (Windows NT 10.0; Win64; x64) AppleWebKit/537.36 (KHTML, like Gecko) Chrome/99.0.4844.74 Safari/537.36'\n",
    "# }\n",
    "\n",
    "# try:\n",
    "#     req = Request(url, headers = headers)\n",
    "#     response = urlopen(req)\n",
    "#     html = response.read()\n",
    "#     # print(html) \n",
    "    \n",
    "# except HTTPError as e:\n",
    "#     print(e.status, e.reason)\n",
    "\n",
    "# except URLError as e:\n",
    "#     print(e.reason)"
   ]
  },
  {
   "cell_type": "code",
   "execution_count": 34,
   "id": "c8daa17d-88fc-4389-95a8-9d991fdad575",
   "metadata": {},
   "outputs": [],
   "source": [
    "#Limpeza e ajuste de visualização\n",
    "html = html.decode('utf-8')\n",
    "html = trata_html(html)"
   ]
  },
  {
   "cell_type": "code",
   "execution_count": 35,
   "id": "2594167b-e87f-496c-823f-ccdf4ad6a6ba",
   "metadata": {},
   "outputs": [],
   "source": [
    "soup = BeautifulSoup(html,'html.parser') #melhorar a visualização do HTML"
   ]
  },
  {
   "cell_type": "code",
   "execution_count": 36,
   "id": "46396e2c-33e3-4eb3-97c4-5f0503619658",
   "metadata": {},
   "outputs": [],
   "source": [
    "#print(soup.prettify())"
   ]
  },
  {
   "cell_type": "code",
   "execution_count": 37,
   "id": "a0f3a8b8-d9e8-4d4f-b6ed-df30a0ff5d59",
   "metadata": {},
   "outputs": [
    {
     "data": {
      "text/plain": [
       "<title>Metawar (METAWAR) Preço, Gráfico, Capitalização de Mercado | CoinMarketCap</title>"
      ]
     },
     "execution_count": 37,
     "metadata": {},
     "output_type": "execute_result"
    }
   ],
   "source": [
    "soup.title"
   ]
  },
  {
   "cell_type": "code",
   "execution_count": 38,
   "id": "f0e4948a-0cec-4c2f-a701-bdc33a678577",
   "metadata": {},
   "outputs": [],
   "source": [
    "for item in soup.find('div', class_ = 'priceValue'):\n",
    "    price = item.get_text()"
   ]
  },
  {
   "cell_type": "code",
   "execution_count": 24,
   "id": "b8e565ae-b3f0-49fa-8def-d26796f4b82a",
   "metadata": {},
   "outputs": [],
   "source": [
    "price = float(price[2:])"
   ]
  },
  {
   "cell_type": "code",
   "execution_count": 25,
   "id": "14f0e409-9a3c-463c-b72c-ce33594e6dcc",
   "metadata": {},
   "outputs": [
    {
     "data": {
      "text/plain": [
       "0.1152"
      ]
     },
     "execution_count": 25,
     "metadata": {},
     "output_type": "execute_result"
    }
   ],
   "source": [
    "price"
   ]
  },
  {
   "cell_type": "code",
   "execution_count": null,
   "id": "13e69b6e-6f85-4fdf-9b0b-b8d470dc2482",
   "metadata": {},
   "outputs": [],
   "source": []
  }
 ],
 "metadata": {
  "kernelspec": {
   "display_name": "Python 3 (ipykernel)",
   "language": "python",
   "name": "python3"
  },
  "language_info": {
   "codemirror_mode": {
    "name": "ipython",
    "version": 3
   },
   "file_extension": ".py",
   "mimetype": "text/x-python",
   "name": "python",
   "nbconvert_exporter": "python",
   "pygments_lexer": "ipython3",
   "version": "3.9.7"
  }
 },
 "nbformat": 4,
 "nbformat_minor": 5
}
