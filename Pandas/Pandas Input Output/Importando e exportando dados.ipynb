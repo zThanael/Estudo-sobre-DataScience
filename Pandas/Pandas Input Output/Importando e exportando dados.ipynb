{
 "cells": [
  {
   "cell_type": "markdown",
   "id": "60e114c5-53a0-4f4d-bbf7-58a497bb4e6c",
   "metadata": {
    "tags": []
   },
   "source": [
    "# Entradas de dados com Pandas"
   ]
  },
  {
   "cell_type": "markdown",
   "id": "4f0d47e1-2346-432f-82e0-23232ceb697b",
   "metadata": {},
   "source": [
    "- Importação do Pandas"
   ]
  },
  {
   "cell_type": "code",
   "execution_count": 1,
   "id": "a988a344-4bda-4fdb-880a-0b3d4d2a656b",
   "metadata": {},
   "outputs": [],
   "source": [
    "import pandas as pd"
   ]
  },
  {
   "cell_type": "markdown",
   "id": "b70d2213-be93-4c39-a07d-f52ac98f29b0",
   "metadata": {},
   "source": [
    "## Tipos de dados:"
   ]
  },
  {
   "cell_type": "markdown",
   "id": "0d2964df-7a70-4bc6-ad9e-0cfab0d68feb",
   "metadata": {
    "jp-MarkdownHeadingCollapsed": true,
    "tags": []
   },
   "source": [
    "### CSV"
   ]
  },
  {
   "cell_type": "code",
   "execution_count": 2,
   "id": "48efd714-c9aa-4de0-b410-4f5472ee18e8",
   "metadata": {},
   "outputs": [
    {
     "data": {
      "text/html": [
       "<div>\n",
       "<style scoped>\n",
       "    .dataframe tbody tr th:only-of-type {\n",
       "        vertical-align: middle;\n",
       "    }\n",
       "\n",
       "    .dataframe tbody tr th {\n",
       "        vertical-align: top;\n",
       "    }\n",
       "\n",
       "    .dataframe thead th {\n",
       "        text-align: right;\n",
       "    }\n",
       "</style>\n",
       "<table border=\"1\" class=\"dataframe\">\n",
       "  <thead>\n",
       "    <tr style=\"text-align: right;\">\n",
       "      <th></th>\n",
       "      <th>Tipo;Bairro;Quartos;Vagas;Suites;Area;Valor;Condominio;IPTU;Valor m2;Tipo Agregado</th>\n",
       "    </tr>\n",
       "  </thead>\n",
       "  <tbody>\n",
       "    <tr>\n",
       "      <th>12530</th>\n",
       "      <td>Apartamento;Ipanema;2;1;2;120;4000.0;1450.0;33...</td>\n",
       "    </tr>\n",
       "    <tr>\n",
       "      <th>14944</th>\n",
       "      <td>Apartamento;Leblon;4;1;1;140;7800.0;1370.0;400...</td>\n",
       "    </tr>\n",
       "    <tr>\n",
       "      <th>19278</th>\n",
       "      <td>Quitinete;Centro;1;0;0;31;1100.0;480.0;0.0;35....</td>\n",
       "    </tr>\n",
       "  </tbody>\n",
       "</table>\n",
       "</div>"
      ],
      "text/plain": [
       "      Tipo;Bairro;Quartos;Vagas;Suites;Area;Valor;Condominio;IPTU;Valor m2;Tipo Agregado\n",
       "12530  Apartamento;Ipanema;2;1;2;120;4000.0;1450.0;33...                                \n",
       "14944  Apartamento;Leblon;4;1;1;140;7800.0;1370.0;400...                                \n",
       "19278  Quitinete;Centro;1;0;0;31;1100.0;480.0;0.0;35....                                "
      ]
     },
     "execution_count": 2,
     "metadata": {},
     "output_type": "execute_result"
    }
   ],
   "source": [
    "df_csv = pd.read_csv('dados/aluguel.csv')\n",
    "df_csv.sample(3)"
   ]
  },
  {
   "cell_type": "markdown",
   "id": "0b819c38-1fef-4b49-9436-36348d859962",
   "metadata": {},
   "source": [
    "Perceba que não conseguimos realizar a vizualização correta, para resolver este problema basta que passamos o parametro ``sep = ';'``  "
   ]
  },
  {
   "cell_type": "code",
   "execution_count": 3,
   "id": "e448f549-6120-4a60-b42f-ef73e23d0f1a",
   "metadata": {},
   "outputs": [
    {
     "data": {
      "text/html": [
       "<div>\n",
       "<style scoped>\n",
       "    .dataframe tbody tr th:only-of-type {\n",
       "        vertical-align: middle;\n",
       "    }\n",
       "\n",
       "    .dataframe tbody tr th {\n",
       "        vertical-align: top;\n",
       "    }\n",
       "\n",
       "    .dataframe thead th {\n",
       "        text-align: right;\n",
       "    }\n",
       "</style>\n",
       "<table border=\"1\" class=\"dataframe\">\n",
       "  <thead>\n",
       "    <tr style=\"text-align: right;\">\n",
       "      <th></th>\n",
       "      <th>Tipo</th>\n",
       "      <th>Bairro</th>\n",
       "      <th>Quartos</th>\n",
       "      <th>Vagas</th>\n",
       "      <th>Suites</th>\n",
       "      <th>Area</th>\n",
       "      <th>Valor</th>\n",
       "      <th>Condominio</th>\n",
       "      <th>IPTU</th>\n",
       "      <th>Valor m2</th>\n",
       "      <th>Tipo Agregado</th>\n",
       "    </tr>\n",
       "  </thead>\n",
       "  <tbody>\n",
       "    <tr>\n",
       "      <th>2254</th>\n",
       "      <td>Apartamento</td>\n",
       "      <td>Botafogo</td>\n",
       "      <td>3</td>\n",
       "      <td>1</td>\n",
       "      <td>1</td>\n",
       "      <td>103</td>\n",
       "      <td>5700.0</td>\n",
       "      <td>1310.0</td>\n",
       "      <td>348.0</td>\n",
       "      <td>55.34</td>\n",
       "      <td>Apartamento</td>\n",
       "    </tr>\n",
       "    <tr>\n",
       "      <th>12717</th>\n",
       "      <td>Apartamento</td>\n",
       "      <td>Méier</td>\n",
       "      <td>1</td>\n",
       "      <td>0</td>\n",
       "      <td>0</td>\n",
       "      <td>32</td>\n",
       "      <td>900.0</td>\n",
       "      <td>180.0</td>\n",
       "      <td>0.0</td>\n",
       "      <td>28.12</td>\n",
       "      <td>Apartamento</td>\n",
       "    </tr>\n",
       "    <tr>\n",
       "      <th>5493</th>\n",
       "      <td>Apartamento</td>\n",
       "      <td>Barra da Tijuca</td>\n",
       "      <td>1</td>\n",
       "      <td>1</td>\n",
       "      <td>0</td>\n",
       "      <td>74</td>\n",
       "      <td>1600.0</td>\n",
       "      <td>1067.0</td>\n",
       "      <td>0.0</td>\n",
       "      <td>21.62</td>\n",
       "      <td>Apartamento</td>\n",
       "    </tr>\n",
       "  </tbody>\n",
       "</table>\n",
       "</div>"
      ],
      "text/plain": [
       "              Tipo           Bairro  Quartos  Vagas  Suites  Area   Valor  \\\n",
       "2254   Apartamento         Botafogo        3      1       1   103  5700.0   \n",
       "12717  Apartamento            Méier        1      0       0    32   900.0   \n",
       "5493   Apartamento  Barra da Tijuca        1      1       0    74  1600.0   \n",
       "\n",
       "       Condominio   IPTU  Valor m2 Tipo Agregado  \n",
       "2254       1310.0  348.0     55.34   Apartamento  \n",
       "12717       180.0    0.0     28.12   Apartamento  \n",
       "5493       1067.0    0.0     21.62   Apartamento  "
      ]
     },
     "execution_count": 3,
     "metadata": {},
     "output_type": "execute_result"
    }
   ],
   "source": [
    "df_csv = pd.read_csv('dados/aluguel.csv',sep=';')\n",
    "df_csv.sample(3)"
   ]
  },
  {
   "cell_type": "markdown",
   "id": "a3e192df-869b-4176-ad6e-7c6b6ec4d314",
   "metadata": {},
   "source": [
    "Obs: São poucos os dados csv que necessitam deste separador, geralmente não será necessário"
   ]
  },
  {
   "cell_type": "markdown",
   "id": "c5600cec-a924-4ed0-8119-752e0398c07a",
   "metadata": {},
   "source": [
    "- #### Para realizar a exportação"
   ]
  },
  {
   "cell_type": "code",
   "execution_count": 23,
   "id": "6421da39-e633-40bc-ac32-153939b97072",
   "metadata": {},
   "outputs": [],
   "source": [
    "df_csv.to_csv('dados/df_csv_export.csv') #Caso necessario passar o sep = ';' também"
   ]
  },
  {
   "cell_type": "markdown",
   "id": "964d33a8-9e2f-48ab-b62f-7a4b3315b4f9",
   "metadata": {
    "jp-MarkdownHeadingCollapsed": true,
    "tags": []
   },
   "source": [
    "---\n",
    "\n",
    "###  JSON\n",
    "\n",
    "> Geralmente dados provindos de APIs chegam no formato JSON"
   ]
  },
  {
   "cell_type": "code",
   "execution_count": 4,
   "id": "ca0e19cf-2022-412d-bc05-5d6b4d69c8f2",
   "metadata": {},
   "outputs": [
    {
     "data": {
      "text/html": [
       "<div>\n",
       "<style scoped>\n",
       "    .dataframe tbody tr th:only-of-type {\n",
       "        vertical-align: middle;\n",
       "    }\n",
       "\n",
       "    .dataframe tbody tr th {\n",
       "        vertical-align: top;\n",
       "    }\n",
       "\n",
       "    .dataframe thead th {\n",
       "        text-align: right;\n",
       "    }\n",
       "</style>\n",
       "<table border=\"1\" class=\"dataframe\">\n",
       "  <thead>\n",
       "    <tr style=\"text-align: right;\">\n",
       "      <th></th>\n",
       "      <th>Tipo</th>\n",
       "      <th>Bairro</th>\n",
       "      <th>Quartos</th>\n",
       "      <th>Vagas</th>\n",
       "      <th>Suites</th>\n",
       "      <th>Area</th>\n",
       "      <th>Valor</th>\n",
       "      <th>Condominio</th>\n",
       "      <th>IPTU</th>\n",
       "    </tr>\n",
       "  </thead>\n",
       "  <tbody>\n",
       "    <tr>\n",
       "      <th>0</th>\n",
       "      <td>Quitinete</td>\n",
       "      <td>Copacabana</td>\n",
       "      <td>1</td>\n",
       "      <td>0</td>\n",
       "      <td>0</td>\n",
       "      <td>40</td>\n",
       "      <td>1700</td>\n",
       "      <td>500.0</td>\n",
       "      <td>60.0</td>\n",
       "    </tr>\n",
       "    <tr>\n",
       "      <th>1</th>\n",
       "      <td>Casa</td>\n",
       "      <td>Jardim Botânico</td>\n",
       "      <td>2</td>\n",
       "      <td>0</td>\n",
       "      <td>1</td>\n",
       "      <td>100</td>\n",
       "      <td>7000</td>\n",
       "      <td>NaN</td>\n",
       "      <td>NaN</td>\n",
       "    </tr>\n",
       "    <tr>\n",
       "      <th>2</th>\n",
       "      <td>Conjunto Comercial/Sala</td>\n",
       "      <td>Barra da Tijuca</td>\n",
       "      <td>0</td>\n",
       "      <td>4</td>\n",
       "      <td>0</td>\n",
       "      <td>150</td>\n",
       "      <td>5200</td>\n",
       "      <td>4020.0</td>\n",
       "      <td>1111.0</td>\n",
       "    </tr>\n",
       "  </tbody>\n",
       "</table>\n",
       "</div>"
      ],
      "text/plain": [
       "                      Tipo           Bairro  Quartos  Vagas  Suites  Area  \\\n",
       "0                Quitinete       Copacabana        1      0       0    40   \n",
       "1                     Casa  Jardim Botânico        2      0       1   100   \n",
       "2  Conjunto Comercial/Sala  Barra da Tijuca        0      4       0   150   \n",
       "\n",
       "   Valor  Condominio    IPTU  \n",
       "0   1700       500.0    60.0  \n",
       "1   7000         NaN     NaN  \n",
       "2   5200      4020.0  1111.0  "
      ]
     },
     "execution_count": 4,
     "metadata": {},
     "output_type": "execute_result"
    }
   ],
   "source": [
    "df_json = pd.read_json('dados/aluguel.json')\n",
    "df_json.head(3)"
   ]
  },
  {
   "cell_type": "markdown",
   "id": "41195c58-3a6a-42db-8515-86949f295c30",
   "metadata": {},
   "source": [
    "**Obs**: Alguns dados vindo em jsons podem ficar formatados levemente diferente\n",
    "veja o exemplo"
   ]
  },
  {
   "cell_type": "code",
   "execution_count": 5,
   "id": "eebc0e2e-03c6-4258-b5cf-463732fd6c1b",
   "metadata": {},
   "outputs": [
    {
     "data": {
      "text/html": [
       "<div>\n",
       "<style scoped>\n",
       "    .dataframe tbody tr th:only-of-type {\n",
       "        vertical-align: middle;\n",
       "    }\n",
       "\n",
       "    .dataframe tbody tr th {\n",
       "        vertical-align: top;\n",
       "    }\n",
       "\n",
       "    .dataframe thead th {\n",
       "        text-align: right;\n",
       "    }\n",
       "</style>\n",
       "<table border=\"1\" class=\"dataframe\">\n",
       "  <thead>\n",
       "    <tr style=\"text-align: right;\">\n",
       "      <th></th>\n",
       "      <th>normal</th>\n",
       "      <th>highlights</th>\n",
       "    </tr>\n",
       "  </thead>\n",
       "  <tbody>\n",
       "    <tr>\n",
       "      <th>output</th>\n",
       "      <td>{'listings': [{'imovel': {'tipos': {'proprieda...</td>\n",
       "      <td>{'listings': [{'imovel': {'tipos': {'proprieda...</td>\n",
       "    </tr>\n",
       "  </tbody>\n",
       "</table>\n",
       "</div>"
      ],
      "text/plain": [
       "                                                   normal  \\\n",
       "output  {'listings': [{'imovel': {'tipos': {'proprieda...   \n",
       "\n",
       "                                               highlights  \n",
       "output  {'listings': [{'imovel': {'tipos': {'proprieda...  "
      ]
     },
     "execution_count": 5,
     "metadata": {},
     "output_type": "execute_result"
    }
   ],
   "source": [
    "df_json = pd.read_json('dados/realestates.json')\n",
    "df_json"
   ]
  },
  {
   "cell_type": "markdown",
   "id": "b3f3864b-0527-46c7-ad49-b11ed0db859b",
   "metadata": {},
   "source": [
    "> Nestes casos podemos usar o ``pd.json_normalize()`` "
   ]
  },
  {
   "cell_type": "code",
   "execution_count": 6,
   "id": "8c1a1313-afb9-408e-bca2-dd382a1df9d7",
   "metadata": {},
   "outputs": [
    {
     "data": {
      "text/html": [
       "<div>\n",
       "<style scoped>\n",
       "    .dataframe tbody tr th:only-of-type {\n",
       "        vertical-align: middle;\n",
       "    }\n",
       "\n",
       "    .dataframe tbody tr th {\n",
       "        vertical-align: top;\n",
       "    }\n",
       "\n",
       "    .dataframe thead th {\n",
       "        text-align: right;\n",
       "    }\n",
       "</style>\n",
       "<table border=\"1\" class=\"dataframe\">\n",
       "  <thead>\n",
       "    <tr style=\"text-align: right;\">\n",
       "      <th></th>\n",
       "      <th>listings</th>\n",
       "    </tr>\n",
       "  </thead>\n",
       "  <tbody>\n",
       "    <tr>\n",
       "      <th>0</th>\n",
       "      <td>[{'imovel': {'tipos': {'propriedade': 'Casa'},...</td>\n",
       "    </tr>\n",
       "  </tbody>\n",
       "</table>\n",
       "</div>"
      ],
      "text/plain": [
       "                                            listings\n",
       "0  [{'imovel': {'tipos': {'propriedade': 'Casa'},..."
      ]
     },
     "execution_count": 6,
     "metadata": {},
     "output_type": "execute_result"
    }
   ],
   "source": [
    "df_normal = pd.json_normalize(data=df_json['normal'])\n",
    "df_normal"
   ]
  },
  {
   "cell_type": "code",
   "execution_count": 7,
   "id": "4258ddc6-e383-4458-a852-ee71f267b95f",
   "metadata": {},
   "outputs": [
    {
     "data": {
      "text/html": [
       "<div>\n",
       "<style scoped>\n",
       "    .dataframe tbody tr th:only-of-type {\n",
       "        vertical-align: middle;\n",
       "    }\n",
       "\n",
       "    .dataframe tbody tr th {\n",
       "        vertical-align: top;\n",
       "    }\n",
       "\n",
       "    .dataframe thead th {\n",
       "        text-align: right;\n",
       "    }\n",
       "</style>\n",
       "<table border=\"1\" class=\"dataframe\">\n",
       "  <thead>\n",
       "    <tr style=\"text-align: right;\">\n",
       "      <th></th>\n",
       "      <th>imovel_tipos_propriedade</th>\n",
       "      <th>imovel_endereco_bairro</th>\n",
       "      <th>imovel_endereco_localizacao_type</th>\n",
       "      <th>imovel_endereco_localizacao_coordinates</th>\n",
       "      <th>imovel_vagasGaragem</th>\n",
       "      <th>imovel_area</th>\n",
       "      <th>imovel_caracteristicas_propriedade</th>\n",
       "      <th>imovel_caracteristicas_condominio</th>\n",
       "      <th>imovel_caracteristicas_entorno</th>\n",
       "      <th>anuncio_tipos_publicacao</th>\n",
       "      <th>anuncio_tipos_listagem</th>\n",
       "      <th>anuncio_valores_venda</th>\n",
       "      <th>anuncio_valores_aluguel</th>\n",
       "      <th>anuncio_valores_condominio</th>\n",
       "      <th>anuncio_valores_iptu</th>\n",
       "      <th>anuncio_descricao</th>\n",
       "    </tr>\n",
       "  </thead>\n",
       "  <tbody>\n",
       "    <tr>\n",
       "      <th>0</th>\n",
       "      <td>Casa</td>\n",
       "      <td>Barra da Tijuca</td>\n",
       "      <td>Point</td>\n",
       "      <td>[-43.3039086, -23.0139692]</td>\n",
       "      <td>4</td>\n",
       "      <td>279</td>\n",
       "      <td>['Área de Serviço', 'Terraço', 'Churrasqueira'...</td>\n",
       "      <td>['Churrasqueira', 'Salão de Jogos', 'Sauna', '...</td>\n",
       "      <td>['Próximo a Escola Particular', 'Próximo ao Me...</td>\n",
       "      <td>Padrão</td>\n",
       "      <td>Lançamento</td>\n",
       "      <td>2400000.0</td>\n",
       "      <td>0.0</td>\n",
       "      <td>790.0</td>\n",
       "      <td>5700.0</td>\n",
       "      <td>Amplo imóvel para venda com 3 quartos, sendo 1...</td>\n",
       "    </tr>\n",
       "    <tr>\n",
       "      <th>1</th>\n",
       "      <td>Apartamento</td>\n",
       "      <td>Campo Grande</td>\n",
       "      <td>Point</td>\n",
       "      <td>[0, 0]</td>\n",
       "      <td>1</td>\n",
       "      <td>60</td>\n",
       "      <td>['Sauna']</td>\n",
       "      <td>['Elevador', 'Playground', 'Salão de Festas', ...</td>\n",
       "      <td>['Próximo ao Shopping', 'Próximo a Áreas de La...</td>\n",
       "      <td>Padrão</td>\n",
       "      <td>Usado</td>\n",
       "      <td>200000.0</td>\n",
       "      <td>0.0</td>\n",
       "      <td>0.0</td>\n",
       "      <td>0.0</td>\n",
       "      <td>Amplo imóvel para venda com 2 quartos, sendo 0...</td>\n",
       "    </tr>\n",
       "    <tr>\n",
       "      <th>2</th>\n",
       "      <td>Cobertura</td>\n",
       "      <td>Barra da Tijuca</td>\n",
       "      <td>Point</td>\n",
       "      <td>[-43.3037186, -22.9951304]</td>\n",
       "      <td>2</td>\n",
       "      <td>380</td>\n",
       "      <td>['Acessibilidade', 'Área de Serviço', 'Sauna',...</td>\n",
       "      <td>['Sauna', 'Playground', 'Quadra Poliesportiva'...</td>\n",
       "      <td>['Próximo a Escola Particular']</td>\n",
       "      <td>Premium</td>\n",
       "      <td>Usado</td>\n",
       "      <td>4400000.0</td>\n",
       "      <td>0.0</td>\n",
       "      <td>1200.0</td>\n",
       "      <td>850.0</td>\n",
       "      <td>Amplo imóvel para venda com 5 quartos, sendo 4...</td>\n",
       "    </tr>\n",
       "  </tbody>\n",
       "</table>\n",
       "</div>"
      ],
      "text/plain": [
       "  imovel_tipos_propriedade imovel_endereco_bairro  \\\n",
       "0                     Casa        Barra da Tijuca   \n",
       "1              Apartamento           Campo Grande   \n",
       "2                Cobertura        Barra da Tijuca   \n",
       "\n",
       "  imovel_endereco_localizacao_type imovel_endereco_localizacao_coordinates  \\\n",
       "0                            Point              [-43.3039086, -23.0139692]   \n",
       "1                            Point                                  [0, 0]   \n",
       "2                            Point              [-43.3037186, -22.9951304]   \n",
       "\n",
       "   imovel_vagasGaragem  imovel_area  \\\n",
       "0                    4          279   \n",
       "1                    1           60   \n",
       "2                    2          380   \n",
       "\n",
       "                  imovel_caracteristicas_propriedade  \\\n",
       "0  ['Área de Serviço', 'Terraço', 'Churrasqueira'...   \n",
       "1                                          ['Sauna']   \n",
       "2  ['Acessibilidade', 'Área de Serviço', 'Sauna',...   \n",
       "\n",
       "                   imovel_caracteristicas_condominio  \\\n",
       "0  ['Churrasqueira', 'Salão de Jogos', 'Sauna', '...   \n",
       "1  ['Elevador', 'Playground', 'Salão de Festas', ...   \n",
       "2  ['Sauna', 'Playground', 'Quadra Poliesportiva'...   \n",
       "\n",
       "                      imovel_caracteristicas_entorno anuncio_tipos_publicacao  \\\n",
       "0  ['Próximo a Escola Particular', 'Próximo ao Me...                   Padrão   \n",
       "1  ['Próximo ao Shopping', 'Próximo a Áreas de La...                   Padrão   \n",
       "2                    ['Próximo a Escola Particular']                  Premium   \n",
       "\n",
       "  anuncio_tipos_listagem  anuncio_valores_venda  anuncio_valores_aluguel  \\\n",
       "0             Lançamento              2400000.0                      0.0   \n",
       "1                  Usado               200000.0                      0.0   \n",
       "2                  Usado              4400000.0                      0.0   \n",
       "\n",
       "   anuncio_valores_condominio  anuncio_valores_iptu  \\\n",
       "0                       790.0                5700.0   \n",
       "1                         0.0                   0.0   \n",
       "2                      1200.0                 850.0   \n",
       "\n",
       "                                   anuncio_descricao  \n",
       "0  Amplo imóvel para venda com 3 quartos, sendo 1...  \n",
       "1  Amplo imóvel para venda com 2 quartos, sendo 0...  \n",
       "2  Amplo imóvel para venda com 5 quartos, sendo 4...  "
      ]
     },
     "execution_count": 7,
     "metadata": {},
     "output_type": "execute_result"
    }
   ],
   "source": [
    "df_json_listings = pd.json_normalize(data=df_normal['listings'].iloc[0],sep='_')\n",
    "df_json_listings.head(3)"
   ]
  },
  {
   "cell_type": "markdown",
   "id": "7aa344a8-dbd3-4251-9799-729cc64cf78e",
   "metadata": {},
   "source": [
    "> Dificilmente se encontra esses casos, é interesssante utilizar um json viewer para entender melhor a estrutura do json e saber como lidar com ele ate chegar no DataFrame"
   ]
  },
  {
   "cell_type": "markdown",
   "id": "6c770b0f-22c5-4270-adf1-585716b9d637",
   "metadata": {},
   "source": [
    "- #### Para realizar a exportação"
   ]
  },
  {
   "cell_type": "code",
   "execution_count": 21,
   "id": "dc095f61-f79e-4ba5-b210-d5c10a9db5fd",
   "metadata": {},
   "outputs": [],
   "source": [
    "df_json.to_json('dados/df_export.json')"
   ]
  },
  {
   "cell_type": "markdown",
   "id": "e422cd1e-b2e7-4832-9d36-a1b9fa3b5965",
   "metadata": {
    "jp-MarkdownHeadingCollapsed": true,
    "tags": []
   },
   "source": [
    "---\n",
    "\n",
    "### TXT"
   ]
  },
  {
   "cell_type": "code",
   "execution_count": 8,
   "id": "42f30e00-a23d-4d63-b68a-c23e0ccf2fb8",
   "metadata": {},
   "outputs": [
    {
     "data": {
      "text/html": [
       "<div>\n",
       "<style scoped>\n",
       "    .dataframe tbody tr th:only-of-type {\n",
       "        vertical-align: middle;\n",
       "    }\n",
       "\n",
       "    .dataframe tbody tr th {\n",
       "        vertical-align: top;\n",
       "    }\n",
       "\n",
       "    .dataframe thead th {\n",
       "        text-align: right;\n",
       "    }\n",
       "</style>\n",
       "<table border=\"1\" class=\"dataframe\">\n",
       "  <thead>\n",
       "    <tr style=\"text-align: right;\">\n",
       "      <th></th>\n",
       "      <th>Tipo</th>\n",
       "      <th>Bairro</th>\n",
       "      <th>Quartos</th>\n",
       "      <th>Vagas</th>\n",
       "      <th>Suites</th>\n",
       "      <th>Area</th>\n",
       "      <th>Valor</th>\n",
       "      <th>Condominio</th>\n",
       "      <th>IPTU</th>\n",
       "    </tr>\n",
       "  </thead>\n",
       "  <tbody>\n",
       "    <tr>\n",
       "      <th>0</th>\n",
       "      <td>Quitinete</td>\n",
       "      <td>Copacabana</td>\n",
       "      <td>1</td>\n",
       "      <td>0</td>\n",
       "      <td>0</td>\n",
       "      <td>40</td>\n",
       "      <td>1700</td>\n",
       "      <td>500.0</td>\n",
       "      <td>60.0</td>\n",
       "    </tr>\n",
       "    <tr>\n",
       "      <th>1</th>\n",
       "      <td>Casa</td>\n",
       "      <td>Jardim Botânico</td>\n",
       "      <td>2</td>\n",
       "      <td>0</td>\n",
       "      <td>1</td>\n",
       "      <td>100</td>\n",
       "      <td>7000</td>\n",
       "      <td>NaN</td>\n",
       "      <td>NaN</td>\n",
       "    </tr>\n",
       "    <tr>\n",
       "      <th>2</th>\n",
       "      <td>Conjunto Comercial/Sala</td>\n",
       "      <td>Barra da Tijuca</td>\n",
       "      <td>0</td>\n",
       "      <td>4</td>\n",
       "      <td>0</td>\n",
       "      <td>150</td>\n",
       "      <td>5200</td>\n",
       "      <td>4020.0</td>\n",
       "      <td>1111.0</td>\n",
       "    </tr>\n",
       "  </tbody>\n",
       "</table>\n",
       "</div>"
      ],
      "text/plain": [
       "                      Tipo           Bairro  Quartos  Vagas  Suites  Area  \\\n",
       "0                Quitinete       Copacabana        1      0       0    40   \n",
       "1                     Casa  Jardim Botânico        2      0       1   100   \n",
       "2  Conjunto Comercial/Sala  Barra da Tijuca        0      4       0   150   \n",
       "\n",
       "   Valor  Condominio    IPTU  \n",
       "0   1700       500.0    60.0  \n",
       "1   7000         NaN     NaN  \n",
       "2   5200      4020.0  1111.0  "
      ]
     },
     "execution_count": 8,
     "metadata": {},
     "output_type": "execute_result"
    }
   ],
   "source": [
    "df_txt = pd.read_table('dados/aluguel.txt')\n",
    "df_txt.head(3)"
   ]
  },
  {
   "cell_type": "markdown",
   "id": "7c1fde45-b74d-45ec-bafa-e63fe821826d",
   "metadata": {},
   "source": [
    "---\n",
    "\n",
    "#### EXCEL"
   ]
  },
  {
   "cell_type": "code",
   "execution_count": 9,
   "id": "bb2f8c63-86e1-4293-8884-cf095f7afa10",
   "metadata": {},
   "outputs": [
    {
     "data": {
      "text/html": [
       "<div>\n",
       "<style scoped>\n",
       "    .dataframe tbody tr th:only-of-type {\n",
       "        vertical-align: middle;\n",
       "    }\n",
       "\n",
       "    .dataframe tbody tr th {\n",
       "        vertical-align: top;\n",
       "    }\n",
       "\n",
       "    .dataframe thead th {\n",
       "        text-align: right;\n",
       "    }\n",
       "</style>\n",
       "<table border=\"1\" class=\"dataframe\">\n",
       "  <thead>\n",
       "    <tr style=\"text-align: right;\">\n",
       "      <th></th>\n",
       "      <th>Tipo</th>\n",
       "      <th>Bairro</th>\n",
       "      <th>Quartos</th>\n",
       "      <th>Vagas</th>\n",
       "      <th>Suites</th>\n",
       "      <th>Area</th>\n",
       "      <th>Valor</th>\n",
       "      <th>Condominio</th>\n",
       "      <th>IPTU</th>\n",
       "    </tr>\n",
       "  </thead>\n",
       "  <tbody>\n",
       "    <tr>\n",
       "      <th>0</th>\n",
       "      <td>Quitinete</td>\n",
       "      <td>Copacabana</td>\n",
       "      <td>1</td>\n",
       "      <td>0</td>\n",
       "      <td>0</td>\n",
       "      <td>40</td>\n",
       "      <td>1700</td>\n",
       "      <td>500.0</td>\n",
       "      <td>60.0</td>\n",
       "    </tr>\n",
       "    <tr>\n",
       "      <th>1</th>\n",
       "      <td>Casa</td>\n",
       "      <td>Jardim Botânico</td>\n",
       "      <td>2</td>\n",
       "      <td>0</td>\n",
       "      <td>1</td>\n",
       "      <td>100</td>\n",
       "      <td>7000</td>\n",
       "      <td>NaN</td>\n",
       "      <td>NaN</td>\n",
       "    </tr>\n",
       "    <tr>\n",
       "      <th>2</th>\n",
       "      <td>Conjunto Comercial/Sala</td>\n",
       "      <td>Barra da Tijuca</td>\n",
       "      <td>0</td>\n",
       "      <td>4</td>\n",
       "      <td>0</td>\n",
       "      <td>150</td>\n",
       "      <td>5200</td>\n",
       "      <td>4020.0</td>\n",
       "      <td>1111.0</td>\n",
       "    </tr>\n",
       "  </tbody>\n",
       "</table>\n",
       "</div>"
      ],
      "text/plain": [
       "                      Tipo           Bairro  Quartos  Vagas  Suites  Area  \\\n",
       "0                Quitinete       Copacabana        1      0       0    40   \n",
       "1                     Casa  Jardim Botânico        2      0       1   100   \n",
       "2  Conjunto Comercial/Sala  Barra da Tijuca        0      4       0   150   \n",
       "\n",
       "   Valor  Condominio    IPTU  \n",
       "0   1700       500.0    60.0  \n",
       "1   7000         NaN     NaN  \n",
       "2   5200      4020.0  1111.0  "
      ]
     },
     "execution_count": 9,
     "metadata": {},
     "output_type": "execute_result"
    }
   ],
   "source": [
    "df_excel = pd.read_excel('dados/aluguel.xlsx')\n",
    "df_excel.head(3)"
   ]
  },
  {
   "cell_type": "markdown",
   "id": "322c7d73-55e9-41c6-821b-dcd2fe78cea8",
   "metadata": {},
   "source": [
    "- Quando trazemos dados do excel conseguimos realizar algumas formatações \n",
    "> Podemos trazer especificos dados de especificas planilhas"
   ]
  },
  {
   "cell_type": "code",
   "execution_count": 10,
   "id": "9f91349a-5ce7-4b79-9d1d-8bd44d4e4a3c",
   "metadata": {},
   "outputs": [
    {
     "data": {
      "text/html": [
       "<div>\n",
       "<style scoped>\n",
       "    .dataframe tbody tr th:only-of-type {\n",
       "        vertical-align: middle;\n",
       "    }\n",
       "\n",
       "    .dataframe tbody tr th {\n",
       "        vertical-align: top;\n",
       "    }\n",
       "\n",
       "    .dataframe thead th {\n",
       "        text-align: right;\n",
       "    }\n",
       "</style>\n",
       "<table border=\"1\" class=\"dataframe\">\n",
       "  <thead>\n",
       "    <tr style=\"text-align: right;\">\n",
       "      <th></th>\n",
       "      <th></th>\n",
       "      <th>valor_m2_bairro</th>\n",
       "    </tr>\n",
       "    <tr>\n",
       "      <th>bairros</th>\n",
       "      <th>tipo</th>\n",
       "      <th></th>\n",
       "    </tr>\n",
       "  </thead>\n",
       "  <tbody>\n",
       "    <tr>\n",
       "      <th rowspan=\"3\" valign=\"top\">São Cristóvão</th>\n",
       "      <th>Casa</th>\n",
       "      <td>13793</td>\n",
       "    </tr>\n",
       "    <tr>\n",
       "      <th>Apartamento</th>\n",
       "      <td>6306</td>\n",
       "    </tr>\n",
       "    <tr>\n",
       "      <th>Cobertura</th>\n",
       "      <td>11695</td>\n",
       "    </tr>\n",
       "  </tbody>\n",
       "</table>\n",
       "</div>"
      ],
      "text/plain": [
       "                           valor_m2_bairro\n",
       "bairros       tipo                        \n",
       "São Cristóvão Casa                   13793\n",
       "              Apartamento             6306\n",
       "              Cobertura              11695"
      ]
     },
     "execution_count": 10,
     "metadata": {},
     "output_type": "execute_result"
    }
   ],
   "source": [
    "df_excel = pd.read_excel(\n",
    "    io = 'dados/bairros.xlsx',           #Input (Arquivo)\n",
    "    sheet_name = 'Preço médio por tipo', # Qual a planilha\n",
    "    usecols = 'C:E',                     # Colunas que os dados estão\n",
    "    header = 2,                          # Linha que começa o cabeçalho\n",
    "    index_col = [0,1],                   # Cria a coluna do bairro ou seja, qual vai ser o index\n",
    "    names = ['bairros','tipo','valor_m2_bairro'] #nome das colunas\n",
    ")\n",
    "df_excel.head(3)"
   ]
  },
  {
   "cell_type": "markdown",
   "id": "3e9ddd69-85da-4e4b-acb6-3da6c92efe35",
   "metadata": {
    "jp-MarkdownHeadingCollapsed": true,
    "tags": []
   },
   "source": [
    "---\n",
    "\n",
    "### HTML"
   ]
  },
  {
   "cell_type": "markdown",
   "id": "02ae979e-ebfc-40df-83ac-d2d39b72d46a",
   "metadata": {},
   "source": [
    "Podemos trazer tantos dos arquivos html quanto de páginas WEB"
   ]
  },
  {
   "cell_type": "code",
   "execution_count": 11,
   "id": "f84867fe-8d6b-44f0-b73e-1745e6e42521",
   "metadata": {},
   "outputs": [],
   "source": [
    "df_html = pd.read_html('dados/dados_html_1.html')"
   ]
  },
  {
   "cell_type": "code",
   "execution_count": 12,
   "id": "1695f084-7ba8-4384-83ee-befa36b36155",
   "metadata": {},
   "outputs": [
    {
     "data": {
      "text/plain": [
       "[  FAIXA ETÁRIA UNAFISCO SAÚDE SOFT II SOFT PARTICIPATIVO      UNIQUE\n",
       " 0      00 A 18               R$218,99           R$192,60    R$334,48\n",
       " 1      19 A 23               R$263,63           R$207,67    R$380,06\n",
       " 2      24 A 28               R$322,44           R$224,26    R$464,39\n",
       " 3      29 A 33               R$402,05           R$258,63    R$566,68\n",
       " 4      34 A 38               R$455,17           R$306,37    R$664,61\n",
       " 5      39 A 43               R$489,29           R$417,93    R$742,72\n",
       " 6      44 A 48               R$582,65           R$495,24    R$869,47\n",
       " 7      49 A 53               R$718,86           R$562,64  R$1.046,29\n",
       " 8      54 A 58               R$908,54           R$721,00  R$1.355,74\n",
       " 9   59 OU MAIS             R$1.244,50         R$1.151,62  R$2.003,53]"
      ]
     },
     "execution_count": 12,
     "metadata": {},
     "output_type": "execute_result"
    }
   ],
   "source": [
    "df_html"
   ]
  },
  {
   "cell_type": "markdown",
   "id": "58908b09-2c87-4d88-92b2-75c346835ad6",
   "metadata": {},
   "source": [
    "Por padrão o ``read_html()`` traz os dataframes dentro de um array, então ele trará todos os <tables> que tem no html em formato de dataframe dentro de uma lista"
   ]
  },
  {
   "cell_type": "code",
   "execution_count": 13,
   "id": "e8e1d9a0-c4d0-4319-a0df-ee59983a0d3b",
   "metadata": {},
   "outputs": [
    {
     "data": {
      "text/html": [
       "<div>\n",
       "<style scoped>\n",
       "    .dataframe tbody tr th:only-of-type {\n",
       "        vertical-align: middle;\n",
       "    }\n",
       "\n",
       "    .dataframe tbody tr th {\n",
       "        vertical-align: top;\n",
       "    }\n",
       "\n",
       "    .dataframe thead th {\n",
       "        text-align: right;\n",
       "    }\n",
       "</style>\n",
       "<table border=\"1\" class=\"dataframe\">\n",
       "  <thead>\n",
       "    <tr style=\"text-align: right;\">\n",
       "      <th></th>\n",
       "      <th>FAIXA ETÁRIA</th>\n",
       "      <th>UNAFISCO SAÚDE SOFT II</th>\n",
       "      <th>SOFT PARTICIPATIVO</th>\n",
       "      <th>UNIQUE</th>\n",
       "    </tr>\n",
       "  </thead>\n",
       "  <tbody>\n",
       "    <tr>\n",
       "      <th>0</th>\n",
       "      <td>00 A 18</td>\n",
       "      <td>R$218,99</td>\n",
       "      <td>R$192,60</td>\n",
       "      <td>R$334,48</td>\n",
       "    </tr>\n",
       "    <tr>\n",
       "      <th>1</th>\n",
       "      <td>19 A 23</td>\n",
       "      <td>R$263,63</td>\n",
       "      <td>R$207,67</td>\n",
       "      <td>R$380,06</td>\n",
       "    </tr>\n",
       "    <tr>\n",
       "      <th>2</th>\n",
       "      <td>24 A 28</td>\n",
       "      <td>R$322,44</td>\n",
       "      <td>R$224,26</td>\n",
       "      <td>R$464,39</td>\n",
       "    </tr>\n",
       "    <tr>\n",
       "      <th>3</th>\n",
       "      <td>29 A 33</td>\n",
       "      <td>R$402,05</td>\n",
       "      <td>R$258,63</td>\n",
       "      <td>R$566,68</td>\n",
       "    </tr>\n",
       "    <tr>\n",
       "      <th>4</th>\n",
       "      <td>34 A 38</td>\n",
       "      <td>R$455,17</td>\n",
       "      <td>R$306,37</td>\n",
       "      <td>R$664,61</td>\n",
       "    </tr>\n",
       "    <tr>\n",
       "      <th>5</th>\n",
       "      <td>39 A 43</td>\n",
       "      <td>R$489,29</td>\n",
       "      <td>R$417,93</td>\n",
       "      <td>R$742,72</td>\n",
       "    </tr>\n",
       "    <tr>\n",
       "      <th>6</th>\n",
       "      <td>44 A 48</td>\n",
       "      <td>R$582,65</td>\n",
       "      <td>R$495,24</td>\n",
       "      <td>R$869,47</td>\n",
       "    </tr>\n",
       "    <tr>\n",
       "      <th>7</th>\n",
       "      <td>49 A 53</td>\n",
       "      <td>R$718,86</td>\n",
       "      <td>R$562,64</td>\n",
       "      <td>R$1.046,29</td>\n",
       "    </tr>\n",
       "    <tr>\n",
       "      <th>8</th>\n",
       "      <td>54 A 58</td>\n",
       "      <td>R$908,54</td>\n",
       "      <td>R$721,00</td>\n",
       "      <td>R$1.355,74</td>\n",
       "    </tr>\n",
       "    <tr>\n",
       "      <th>9</th>\n",
       "      <td>59 OU MAIS</td>\n",
       "      <td>R$1.244,50</td>\n",
       "      <td>R$1.151,62</td>\n",
       "      <td>R$2.003,53</td>\n",
       "    </tr>\n",
       "  </tbody>\n",
       "</table>\n",
       "</div>"
      ],
      "text/plain": [
       "  FAIXA ETÁRIA UNAFISCO SAÚDE SOFT II SOFT PARTICIPATIVO      UNIQUE\n",
       "0      00 A 18               R$218,99           R$192,60    R$334,48\n",
       "1      19 A 23               R$263,63           R$207,67    R$380,06\n",
       "2      24 A 28               R$322,44           R$224,26    R$464,39\n",
       "3      29 A 33               R$402,05           R$258,63    R$566,68\n",
       "4      34 A 38               R$455,17           R$306,37    R$664,61\n",
       "5      39 A 43               R$489,29           R$417,93    R$742,72\n",
       "6      44 A 48               R$582,65           R$495,24    R$869,47\n",
       "7      49 A 53               R$718,86           R$562,64  R$1.046,29\n",
       "8      54 A 58               R$908,54           R$721,00  R$1.355,74\n",
       "9   59 OU MAIS             R$1.244,50         R$1.151,62  R$2.003,53"
      ]
     },
     "execution_count": 13,
     "metadata": {},
     "output_type": "execute_result"
    }
   ],
   "source": [
    "df_html[0]"
   ]
  },
  {
   "cell_type": "code",
   "execution_count": 14,
   "id": "f522c8f9-bb7e-4db8-a796-c1dd66965349",
   "metadata": {},
   "outputs": [],
   "source": [
    "df_html_link = pd.read_html('https://unafiscosaude.org.br/site/relatorios-e-demonstrativos-financeiros/')"
   ]
  },
  {
   "cell_type": "code",
   "execution_count": 15,
   "id": "38686aa4-91b9-4d1b-8332-234edd6c269e",
   "metadata": {},
   "outputs": [
    {
     "data": {
      "text/html": [
       "<div>\n",
       "<style scoped>\n",
       "    .dataframe tbody tr th:only-of-type {\n",
       "        vertical-align: middle;\n",
       "    }\n",
       "\n",
       "    .dataframe tbody tr th {\n",
       "        vertical-align: top;\n",
       "    }\n",
       "\n",
       "    .dataframe thead th {\n",
       "        text-align: right;\n",
       "    }\n",
       "</style>\n",
       "<table border=\"1\" class=\"dataframe\">\n",
       "  <thead>\n",
       "    <tr style=\"text-align: right;\">\n",
       "      <th></th>\n",
       "      <th>Região</th>\n",
       "      <th>Conselheiro / Suplente</th>\n",
       "      <th>DS</th>\n",
       "    </tr>\n",
       "  </thead>\n",
       "  <tbody>\n",
       "    <tr>\n",
       "      <th>0</th>\n",
       "      <td>1ª Região DF,GO,MT,MS e TO</td>\n",
       "      <td>Titular: : Adelson Alves de Sousa</td>\n",
       "      <td>BRASILIA - DF</td>\n",
       "    </tr>\n",
       "    <tr>\n",
       "      <th>1</th>\n",
       "      <td>1ª Região DF,GO,MT,MS e TO</td>\n",
       "      <td>Suplente: Maria Aparecida de Sousa Gomes da Silva</td>\n",
       "      <td>BRASILIA - DF</td>\n",
       "    </tr>\n",
       "    <tr>\n",
       "      <th>2</th>\n",
       "      <td>2ª Região AC,AP, AM, PA,RO, PR</td>\n",
       "      <td>Titular: Eduardo Toledo da Silva</td>\n",
       "      <td>AMAZONAS - AM</td>\n",
       "    </tr>\n",
       "  </tbody>\n",
       "</table>\n",
       "</div>"
      ],
      "text/plain": [
       "                           Região  \\\n",
       "0      1ª Região DF,GO,MT,MS e TO   \n",
       "1      1ª Região DF,GO,MT,MS e TO   \n",
       "2  2ª Região AC,AP, AM, PA,RO, PR   \n",
       "\n",
       "                              Conselheiro / Suplente             DS  \n",
       "0                  Titular: : Adelson Alves de Sousa  BRASILIA - DF  \n",
       "1  Suplente: Maria Aparecida de Sousa Gomes da Silva  BRASILIA - DF  \n",
       "2                   Titular: Eduardo Toledo da Silva  AMAZONAS - AM  "
      ]
     },
     "execution_count": 15,
     "metadata": {},
     "output_type": "execute_result"
    }
   ],
   "source": [
    "df_html_link[0].head(3)"
   ]
  },
  {
   "cell_type": "markdown",
   "id": "8fb8eb75-163c-4d47-b4b5-662ab70e90ed",
   "metadata": {
    "jp-MarkdownHeadingCollapsed": true,
    "tags": []
   },
   "source": [
    "\n",
    "---\n",
    "\n",
    "### SQL"
   ]
  },
  {
   "cell_type": "markdown",
   "id": "e115e0b4-7230-4d9f-916e-5096ed39e3ae",
   "metadata": {},
   "source": [
    "Podemos tranformar uma consulta SQL do banco em um Data Frame, mas para isso precisamos realizar a conexao com um banco"
   ]
  },
  {
   "cell_type": "code",
   "execution_count": 16,
   "id": "0fa2bab3-d96a-4021-8b90-573f70a4a5da",
   "metadata": {},
   "outputs": [],
   "source": [
    "from sqlalchemy import create_engine\n",
    "\n",
    "# engine = create_engine('postgresql://{user}:{password}@{host}:{port}/{db}'.format(\n",
    "#                         user='SEU USUARIO',\n",
    "#                         password='SUA SENHA',\n",
    "#                         host='HOST DO BANCO',\n",
    "#                         port='PORTA',\n",
    "#                         db='nome_do_banco',)\n",
    "\n",
    "engine = create_engine('sqlite:///:memory:')"
   ]
  },
  {
   "cell_type": "markdown",
   "id": "ffc8689b-abc5-4412-9022-162caa91d8d5",
   "metadata": {},
   "source": [
    "A partir do momento que a conexão este feita basta realizar o select"
   ]
  },
  {
   "cell_type": "code",
   "execution_count": 17,
   "id": "3c90c032-17b4-437c-abd5-43df271b4ffe",
   "metadata": {},
   "outputs": [],
   "source": [
    "# df_sql = pd.read_sql('SELECT * FROM table', engine)\n",
    "\n",
    "# engine.dispose()"
   ]
  },
  {
   "cell_type": "markdown",
   "id": "70e94f3e-0819-4128-b9ee-9af5e6a29b16",
   "metadata": {},
   "source": [
    "- #### Para realizar a exportação de um data frame para o SQL"
   ]
  },
  {
   "cell_type": "code",
   "execution_count": 19,
   "id": "0ba781da-022a-4087-8c1d-c7729af48075",
   "metadata": {},
   "outputs": [],
   "source": [
    "# df_sql.to_sql('nomeTabela', con = engine) "
   ]
  },
  {
   "cell_type": "markdown",
   "id": "bce97d46-3485-4107-b35f-9f2205473299",
   "metadata": {},
   "source": [
    "Caso deseje especificar mais pode-se usar"
   ]
  },
  {
   "cell_type": "code",
   "execution_count": 20,
   "id": "ac4ccbbe-359d-4f9c-bd66-600bc0d861bc",
   "metadata": {},
   "outputs": [],
   "source": [
    "# df_sql.to_sql('nomeTabela', \n",
    "#                con = engine,\n",
    "#                if_exists='replace',\n",
    "#                index = False,\n",
    "#               dtype = {'idade':integer()}) "
   ]
  },
  {
   "cell_type": "markdown",
   "id": "8d4c27a1-b149-482f-8bca-ae6905e75698",
   "metadata": {},
   "source": [
    "Lembrando que ao passar os dtypes é necessario fazer o import dos tipos de dados primeiros"
   ]
  },
  {
   "cell_type": "code",
   "execution_count": null,
   "id": "ea717dee-b23a-4a0c-82ef-4aabbf238ddd",
   "metadata": {},
   "outputs": [],
   "source": []
  }
 ],
 "metadata": {
  "kernelspec": {
   "display_name": "Python 3 (ipykernel)",
   "language": "python",
   "name": "python3"
  },
  "language_info": {
   "codemirror_mode": {
    "name": "ipython",
    "version": 3
   },
   "file_extension": ".py",
   "mimetype": "text/x-python",
   "name": "python",
   "nbconvert_exporter": "python",
   "pygments_lexer": "ipython3",
   "version": "3.9.7"
  }
 },
 "nbformat": 4,
 "nbformat_minor": 5
}
