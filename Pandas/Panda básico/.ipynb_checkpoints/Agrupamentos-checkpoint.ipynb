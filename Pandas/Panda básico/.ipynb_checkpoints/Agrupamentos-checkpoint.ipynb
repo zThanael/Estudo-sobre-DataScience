{
 "cells": [
  {
   "cell_type": "code",
   "execution_count": 80,
   "id": "1b874f9a",
   "metadata": {},
   "outputs": [],
   "source": [
    "import pandas as pd"
   ]
  },
  {
   "cell_type": "code",
   "execution_count": 81,
   "id": "99b218ba",
   "metadata": {},
   "outputs": [],
   "source": [
    "dados = pd.read_csv('dados/alugel_residencial.csv',sep=';')"
   ]
  },
  {
   "cell_type": "code",
   "execution_count": 82,
   "id": "02cffa23",
   "metadata": {},
   "outputs": [
    {
     "data": {
      "text/plain": [
       "5046.172821405663"
      ]
     },
     "execution_count": 82,
     "metadata": {},
     "output_type": "execute_result"
    }
   ],
   "source": [
    "dados['Valor'].mean()"
   ]
  },
  {
   "cell_type": "code",
   "execution_count": 83,
   "id": "177697d4",
   "metadata": {},
   "outputs": [],
   "source": [
    "bairros = ['Copacabana', 'Jardim Botânico', 'Centro', 'Higienópolis',\n",
    "       'Cachambi', 'Barra da Tijuca']\n",
    "selecao = dados['Bairro'].isin(bairros)\n",
    "dados = dados[selecao]"
   ]
  },
  {
   "cell_type": "code",
   "execution_count": 84,
   "id": "a4e98b28",
   "metadata": {},
   "outputs": [],
   "source": [
    "grupo_bairro = dados.groupby('Bairro')"
   ]
  },
  {
   "cell_type": "code",
   "execution_count": 85,
   "id": "2098f465",
   "metadata": {},
   "outputs": [
    {
     "data": {
      "text/plain": [
       "pandas.core.groupby.generic.DataFrameGroupBy"
      ]
     },
     "execution_count": 85,
     "metadata": {},
     "output_type": "execute_result"
    }
   ],
   "source": [
    "type(grupo_bairro)"
   ]
  },
  {
   "cell_type": "code",
   "execution_count": 95,
   "id": "e60ea6a7",
   "metadata": {},
   "outputs": [
    {
     "data": {
      "text/html": [
       "<div>\n",
       "<style scoped>\n",
       "    .dataframe tbody tr th:only-of-type {\n",
       "        vertical-align: middle;\n",
       "    }\n",
       "\n",
       "    .dataframe tbody tr th {\n",
       "        vertical-align: top;\n",
       "    }\n",
       "\n",
       "    .dataframe thead th {\n",
       "        text-align: right;\n",
       "    }\n",
       "</style>\n",
       "<table border=\"1\" class=\"dataframe\">\n",
       "  <thead>\n",
       "    <tr style=\"text-align: right;\">\n",
       "      <th></th>\n",
       "      <th>Quartos</th>\n",
       "      <th>Vagas</th>\n",
       "      <th>Suites</th>\n",
       "      <th>Area</th>\n",
       "      <th>Valor</th>\n",
       "      <th>Condominio</th>\n",
       "      <th>IPTU</th>\n",
       "      <th>Valor m2</th>\n",
       "    </tr>\n",
       "    <tr>\n",
       "      <th>Bairro</th>\n",
       "      <th></th>\n",
       "      <th></th>\n",
       "      <th></th>\n",
       "      <th></th>\n",
       "      <th></th>\n",
       "      <th></th>\n",
       "      <th></th>\n",
       "      <th></th>\n",
       "    </tr>\n",
       "  </thead>\n",
       "  <tbody>\n",
       "    <tr>\n",
       "      <th>Barra da Tijuca</th>\n",
       "      <td>3.05</td>\n",
       "      <td>2.15</td>\n",
       "      <td>1.89</td>\n",
       "      <td>221.35</td>\n",
       "      <td>7069.55</td>\n",
       "      <td>3591.01</td>\n",
       "      <td>1510.81</td>\n",
       "      <td>35.73</td>\n",
       "    </tr>\n",
       "    <tr>\n",
       "      <th>Cachambi</th>\n",
       "      <td>2.02</td>\n",
       "      <td>0.77</td>\n",
       "      <td>0.22</td>\n",
       "      <td>65.60</td>\n",
       "      <td>1157.17</td>\n",
       "      <td>452.77</td>\n",
       "      <td>36.95</td>\n",
       "      <td>18.01</td>\n",
       "    </tr>\n",
       "    <tr>\n",
       "      <th>Centro</th>\n",
       "      <td>1.12</td>\n",
       "      <td>0.07</td>\n",
       "      <td>0.05</td>\n",
       "      <td>42.59</td>\n",
       "      <td>1254.75</td>\n",
       "      <td>422.57</td>\n",
       "      <td>63.95</td>\n",
       "      <td>31.29</td>\n",
       "    </tr>\n",
       "    <tr>\n",
       "      <th>Copacabana</th>\n",
       "      <td>2.28</td>\n",
       "      <td>1.29</td>\n",
       "      <td>0.54</td>\n",
       "      <td>114.92</td>\n",
       "      <td>4126.68</td>\n",
       "      <td>1148.68</td>\n",
       "      <td>383.26</td>\n",
       "      <td>39.14</td>\n",
       "    </tr>\n",
       "    <tr>\n",
       "      <th>Higienópolis</th>\n",
       "      <td>1.81</td>\n",
       "      <td>0.44</td>\n",
       "      <td>0.19</td>\n",
       "      <td>73.69</td>\n",
       "      <td>1006.25</td>\n",
       "      <td>185.50</td>\n",
       "      <td>46.62</td>\n",
       "      <td>15.29</td>\n",
       "    </tr>\n",
       "    <tr>\n",
       "      <th>Jardim Botânico</th>\n",
       "      <td>2.89</td>\n",
       "      <td>1.67</td>\n",
       "      <td>1.39</td>\n",
       "      <td>208.50</td>\n",
       "      <td>8722.36</td>\n",
       "      <td>1059.24</td>\n",
       "      <td>696.85</td>\n",
       "      <td>42.71</td>\n",
       "    </tr>\n",
       "  </tbody>\n",
       "</table>\n",
       "</div>"
      ],
      "text/plain": [
       "                 Quartos  Vagas  Suites    Area    Valor  Condominio     IPTU  \\\n",
       "Bairro                                                                          \n",
       "Barra da Tijuca     3.05   2.15    1.89  221.35  7069.55     3591.01  1510.81   \n",
       "Cachambi            2.02   0.77    0.22   65.60  1157.17      452.77    36.95   \n",
       "Centro              1.12   0.07    0.05   42.59  1254.75      422.57    63.95   \n",
       "Copacabana          2.28   1.29    0.54  114.92  4126.68     1148.68   383.26   \n",
       "Higienópolis        1.81   0.44    0.19   73.69  1006.25      185.50    46.62   \n",
       "Jardim Botânico     2.89   1.67    1.39  208.50  8722.36     1059.24   696.85   \n",
       "\n",
       "                 Valor m2  \n",
       "Bairro                     \n",
       "Barra da Tijuca     35.73  \n",
       "Cachambi            18.01  \n",
       "Centro              31.29  \n",
       "Copacabana          39.14  \n",
       "Higienópolis        15.29  \n",
       "Jardim Botânico     42.71  "
      ]
     },
     "execution_count": 95,
     "metadata": {},
     "output_type": "execute_result"
    }
   ],
   "source": [
    "grupo_bairro.mean().round(2)"
   ]
  },
  {
   "cell_type": "markdown",
   "id": "50e27277",
   "metadata": {},
   "source": [
    "## Estatisticas Descritivas"
   ]
  },
  {
   "cell_type": "code",
   "execution_count": 87,
   "id": "46ea9346",
   "metadata": {},
   "outputs": [
    {
     "data": {
      "text/html": [
       "<div>\n",
       "<style scoped>\n",
       "    .dataframe tbody tr th:only-of-type {\n",
       "        vertical-align: middle;\n",
       "    }\n",
       "\n",
       "    .dataframe tbody tr th {\n",
       "        vertical-align: top;\n",
       "    }\n",
       "\n",
       "    .dataframe thead th {\n",
       "        text-align: right;\n",
       "    }\n",
       "</style>\n",
       "<table border=\"1\" class=\"dataframe\">\n",
       "  <thead>\n",
       "    <tr style=\"text-align: right;\">\n",
       "      <th></th>\n",
       "      <th>count</th>\n",
       "      <th>mean</th>\n",
       "      <th>std</th>\n",
       "      <th>min</th>\n",
       "      <th>25%</th>\n",
       "      <th>50%</th>\n",
       "      <th>75%</th>\n",
       "      <th>max</th>\n",
       "    </tr>\n",
       "    <tr>\n",
       "      <th>Bairro</th>\n",
       "      <th></th>\n",
       "      <th></th>\n",
       "      <th></th>\n",
       "      <th></th>\n",
       "      <th></th>\n",
       "      <th></th>\n",
       "      <th></th>\n",
       "      <th></th>\n",
       "    </tr>\n",
       "  </thead>\n",
       "  <tbody>\n",
       "    <tr>\n",
       "      <th>Barra da Tijuca</th>\n",
       "      <td>3863.0</td>\n",
       "      <td>7069.552938</td>\n",
       "      <td>11874.152437</td>\n",
       "      <td>800.0</td>\n",
       "      <td>2500.0</td>\n",
       "      <td>4500.0</td>\n",
       "      <td>8500.0</td>\n",
       "      <td>600000.0</td>\n",
       "    </tr>\n",
       "    <tr>\n",
       "      <th>Cachambi</th>\n",
       "      <td>132.0</td>\n",
       "      <td>1157.174242</td>\n",
       "      <td>351.491598</td>\n",
       "      <td>600.0</td>\n",
       "      <td>900.0</td>\n",
       "      <td>1100.0</td>\n",
       "      <td>1300.0</td>\n",
       "      <td>2800.0</td>\n",
       "    </tr>\n",
       "    <tr>\n",
       "      <th>Centro</th>\n",
       "      <td>343.0</td>\n",
       "      <td>1254.752187</td>\n",
       "      <td>884.671866</td>\n",
       "      <td>400.0</td>\n",
       "      <td>800.0</td>\n",
       "      <td>1000.0</td>\n",
       "      <td>1400.0</td>\n",
       "      <td>12000.0</td>\n",
       "    </tr>\n",
       "    <tr>\n",
       "      <th>Copacabana</th>\n",
       "      <td>2644.0</td>\n",
       "      <td>4126.677005</td>\n",
       "      <td>3611.409544</td>\n",
       "      <td>100.0</td>\n",
       "      <td>2000.0</td>\n",
       "      <td>3000.0</td>\n",
       "      <td>4800.0</td>\n",
       "      <td>35000.0</td>\n",
       "    </tr>\n",
       "    <tr>\n",
       "      <th>Higienópolis</th>\n",
       "      <td>16.0</td>\n",
       "      <td>1006.250000</td>\n",
       "      <td>409.420322</td>\n",
       "      <td>700.0</td>\n",
       "      <td>800.0</td>\n",
       "      <td>875.0</td>\n",
       "      <td>1100.0</td>\n",
       "      <td>2400.0</td>\n",
       "    </tr>\n",
       "    <tr>\n",
       "      <th>Jardim Botânico</th>\n",
       "      <td>263.0</td>\n",
       "      <td>8722.357414</td>\n",
       "      <td>9332.733769</td>\n",
       "      <td>1550.0</td>\n",
       "      <td>3150.0</td>\n",
       "      <td>4000.0</td>\n",
       "      <td>10000.0</td>\n",
       "      <td>50000.0</td>\n",
       "    </tr>\n",
       "  </tbody>\n",
       "</table>\n",
       "</div>"
      ],
      "text/plain": [
       "                  count         mean           std     min     25%     50%  \\\n",
       "Bairro                                                                       \n",
       "Barra da Tijuca  3863.0  7069.552938  11874.152437   800.0  2500.0  4500.0   \n",
       "Cachambi          132.0  1157.174242    351.491598   600.0   900.0  1100.0   \n",
       "Centro            343.0  1254.752187    884.671866   400.0   800.0  1000.0   \n",
       "Copacabana       2644.0  4126.677005   3611.409544   100.0  2000.0  3000.0   \n",
       "Higienópolis       16.0  1006.250000    409.420322   700.0   800.0   875.0   \n",
       "Jardim Botânico   263.0  8722.357414   9332.733769  1550.0  3150.0  4000.0   \n",
       "\n",
       "                     75%       max  \n",
       "Bairro                              \n",
       "Barra da Tijuca   8500.0  600000.0  \n",
       "Cachambi          1300.0    2800.0  \n",
       "Centro            1400.0   12000.0  \n",
       "Copacabana        4800.0   35000.0  \n",
       "Higienópolis      1100.0    2400.0  \n",
       "Jardim Botânico  10000.0   50000.0  "
      ]
     },
     "execution_count": 87,
     "metadata": {},
     "output_type": "execute_result"
    }
   ],
   "source": [
    "grupo_bairro['Valor'].describe()"
   ]
  },
  {
   "cell_type": "code",
   "execution_count": 88,
   "id": "c7c9069a",
   "metadata": {},
   "outputs": [
    {
     "data": {
      "text/html": [
       "<div>\n",
       "<style scoped>\n",
       "    .dataframe tbody tr th:only-of-type {\n",
       "        vertical-align: middle;\n",
       "    }\n",
       "\n",
       "    .dataframe tbody tr th {\n",
       "        vertical-align: top;\n",
       "    }\n",
       "\n",
       "    .dataframe thead th {\n",
       "        text-align: right;\n",
       "    }\n",
       "</style>\n",
       "<table border=\"1\" class=\"dataframe\">\n",
       "  <thead>\n",
       "    <tr style=\"text-align: right;\">\n",
       "      <th></th>\n",
       "      <th>Minimo</th>\n",
       "      <th>Máximo</th>\n",
       "    </tr>\n",
       "    <tr>\n",
       "      <th>Bairro</th>\n",
       "      <th></th>\n",
       "      <th></th>\n",
       "    </tr>\n",
       "  </thead>\n",
       "  <tbody>\n",
       "    <tr>\n",
       "      <th>Barra da Tijuca</th>\n",
       "      <td>800.0</td>\n",
       "      <td>600000.0</td>\n",
       "    </tr>\n",
       "    <tr>\n",
       "      <th>Cachambi</th>\n",
       "      <td>600.0</td>\n",
       "      <td>2800.0</td>\n",
       "    </tr>\n",
       "    <tr>\n",
       "      <th>Centro</th>\n",
       "      <td>400.0</td>\n",
       "      <td>12000.0</td>\n",
       "    </tr>\n",
       "    <tr>\n",
       "      <th>Copacabana</th>\n",
       "      <td>100.0</td>\n",
       "      <td>35000.0</td>\n",
       "    </tr>\n",
       "    <tr>\n",
       "      <th>Higienópolis</th>\n",
       "      <td>700.0</td>\n",
       "      <td>2400.0</td>\n",
       "    </tr>\n",
       "    <tr>\n",
       "      <th>Jardim Botânico</th>\n",
       "      <td>1550.0</td>\n",
       "      <td>50000.0</td>\n",
       "    </tr>\n",
       "  </tbody>\n",
       "</table>\n",
       "</div>"
      ],
      "text/plain": [
       "                 Minimo    Máximo\n",
       "Bairro                           \n",
       "Barra da Tijuca   800.0  600000.0\n",
       "Cachambi          600.0    2800.0\n",
       "Centro            400.0   12000.0\n",
       "Copacabana        100.0   35000.0\n",
       "Higienópolis      700.0    2400.0\n",
       "Jardim Botânico  1550.0   50000.0"
      ]
     },
     "execution_count": 88,
     "metadata": {},
     "output_type": "execute_result"
    }
   ],
   "source": [
    "grupo_bairro['Valor'].aggregate(['min','max']).rename(columns = {'min': 'Minimo','max':'Máximo'})"
   ]
  },
  {
   "cell_type": "code",
   "execution_count": 89,
   "id": "90fd3c21",
   "metadata": {},
   "outputs": [],
   "source": [
    "%matplotlib inline\n",
    "import matplotlib.pyplot as plt\n",
    "plt.rc('figure', figsize = (20,10))"
   ]
  },
  {
   "cell_type": "code",
   "execution_count": 92,
   "id": "07090a07",
   "metadata": {},
   "outputs": [
    {
     "data": {
      "text/plain": [
       "Text(0.5, 1.0, 'Valor Médio do Aluguel por bairro')"
      ]
     },
     "execution_count": 92,
     "metadata": {},
     "output_type": "execute_result"
    },
    {
     "data": {
      "image/png": "[encoded data removed]",
      "text/plain": [
       "<Figure size 1440x720 with 1 Axes>"
      ]
     },
     "metadata": {
      "needs_background": "light"
     },
     "output_type": "display_data"
    }
   ],
   "source": [
    "fig = grupo_bairro['Quartos'].max().plot.bar(color = 'blue')\n",
    "fig.set_ylabel('Valor do Aluguel')\n",
    "fig.set_title('Valor Médio do Aluguel por bairro',{'fontsize': 22})"
   ]
  },
  {
   "cell_type": "code",
   "execution_count": null,
   "id": "c99f0e33",
   "metadata": {},
   "outputs": [],
   "source": []
  }
 ],
 "metadata": {
  "kernelspec": {
   "display_name": "Python 3 (ipykernel)",
   "language": "python",
   "name": "python3"
  },
  "language_info": {
   "codemirror_mode": {
    "name": "ipython",
    "version": 3
   },
   "file_extension": ".py",
   "mimetype": "text/x-python",
   "name": "python",
   "nbconvert_exporter": "python",
   "pygments_lexer": "ipython3",
   "version": "3.9.7"
  }
 },
 "nbformat": 4,
 "nbformat_minor": 5
}
